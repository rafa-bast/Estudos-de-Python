{
 "cells": [
  {
   "cell_type": "code",
   "execution_count": 119,
   "metadata": {},
   "outputs": [
    {
     "data": {
      "text/html": [
       "<div>\n",
       "<style scoped>\n",
       "    .dataframe tbody tr th:only-of-type {\n",
       "        vertical-align: middle;\n",
       "    }\n",
       "\n",
       "    .dataframe tbody tr th {\n",
       "        vertical-align: top;\n",
       "    }\n",
       "\n",
       "    .dataframe thead th {\n",
       "        text-align: right;\n",
       "    }\n",
       "</style>\n",
       "<table border=\"1\" class=\"dataframe\">\n",
       "  <thead>\n",
       "    <tr style=\"text-align: right;\">\n",
       "      <th></th>\n",
       "      <th>COD_EMPRESA</th>\n",
       "      <th>COD_FILIAL</th>\n",
       "      <th>COD_AGLOMERADO</th>\n",
       "      <th>AGLOMERADO</th>\n",
       "    </tr>\n",
       "  </thead>\n",
       "  <tbody>\n",
       "    <tr>\n",
       "      <th>0</th>\n",
       "      <td>01</td>\n",
       "      <td>01</td>\n",
       "      <td>01</td>\n",
       "      <td>BOM FUTURO</td>\n",
       "    </tr>\n",
       "    <tr>\n",
       "      <th>1</th>\n",
       "      <td>01</td>\n",
       "      <td>01</td>\n",
       "      <td>02</td>\n",
       "      <td>COLIBRI</td>\n",
       "    </tr>\n",
       "    <tr>\n",
       "      <th>2</th>\n",
       "      <td>01</td>\n",
       "      <td>01</td>\n",
       "      <td>62</td>\n",
       "      <td>RONDONOPOLIS</td>\n",
       "    </tr>\n",
       "    <tr>\n",
       "      <th>3</th>\n",
       "      <td>01</td>\n",
       "      <td>01</td>\n",
       "      <td>88</td>\n",
       "      <td>AMPARO</td>\n",
       "    </tr>\n",
       "    <tr>\n",
       "      <th>4</th>\n",
       "      <td>01</td>\n",
       "      <td>02</td>\n",
       "      <td>16</td>\n",
       "      <td>CARAJAS</td>\n",
       "    </tr>\n",
       "    <tr>\n",
       "      <th>...</th>\n",
       "      <td>...</td>\n",
       "      <td>...</td>\n",
       "      <td>...</td>\n",
       "      <td>...</td>\n",
       "    </tr>\n",
       "    <tr>\n",
       "      <th>250</th>\n",
       "      <td>16</td>\n",
       "      <td>1008065</td>\n",
       "      <td>103</td>\n",
       "      <td>SAO JOSE MATUPA</td>\n",
       "    </tr>\n",
       "    <tr>\n",
       "      <th>251</th>\n",
       "      <td>16</td>\n",
       "      <td>1008060</td>\n",
       "      <td>104</td>\n",
       "      <td>SAO JOSE MATUPA</td>\n",
       "    </tr>\n",
       "    <tr>\n",
       "      <th>252</th>\n",
       "      <td>16</td>\n",
       "      <td>1008066</td>\n",
       "      <td>99</td>\n",
       "      <td>VENTANIA</td>\n",
       "    </tr>\n",
       "    <tr>\n",
       "      <th>253</th>\n",
       "      <td>16</td>\n",
       "      <td>1008021</td>\n",
       "      <td>106</td>\n",
       "      <td>SULINA</td>\n",
       "    </tr>\n",
       "    <tr>\n",
       "      <th>254</th>\n",
       "      <td>16</td>\n",
       "      <td>1008072</td>\n",
       "      <td>114</td>\n",
       "      <td>TUPI BARAO</td>\n",
       "    </tr>\n",
       "  </tbody>\n",
       "</table>\n",
       "<p>255 rows × 4 columns</p>\n",
       "</div>"
      ],
      "text/plain": [
       "    COD_EMPRESA COD_FILIAL COD_AGLOMERADO       AGLOMERADO\n",
       "0            01         01             01       BOM FUTURO\n",
       "1            01         01             02          COLIBRI\n",
       "2            01         01             62     RONDONOPOLIS\n",
       "3            01         01             88           AMPARO\n",
       "4            01         02             16          CARAJAS\n",
       "..          ...        ...            ...              ...\n",
       "250          16    1008065            103  SAO JOSE MATUPA\n",
       "251          16    1008060            104  SAO JOSE MATUPA\n",
       "252          16    1008066             99         VENTANIA\n",
       "253          16    1008021            106           SULINA\n",
       "254          16    1008072            114       TUPI BARAO\n",
       "\n",
       "[255 rows x 4 columns]"
      ]
     },
     "metadata": {},
     "output_type": "display_data"
    },
    {
     "name": "stdout",
     "output_type": "stream",
     "text": [
      "Index(['COD_EMPRESA', 'COD_FILIAL', 'COD_AGLOMERADO', 'AGLOMERADO'], dtype='object')\n"
     ]
    }
   ],
   "source": [
    "# Passo 1: Importar base de dados\n",
    "from qvd import qvd_reader\n",
    "#Lendo QVF\n",
    "qvd = qvd_reader.read('Data base/empresa.qvd')\n",
    "\n",
    "qvd = qvd.drop(columns=[\"RECNO\"])\n",
    "\n",
    "# Passo 2: Visualizar a base de dados\n",
    "display(qvd)  # Exibir conteúdo do QVD\n",
    "print(qvd.columns)\n"
   ]
  },
  {
   "cell_type": "code",
   "execution_count": 120,
   "metadata": {},
   "outputs": [
    {
     "name": "stdout",
     "output_type": "stream",
     "text": [
      "<class 'pandas.core.frame.DataFrame'>\n",
      "RangeIndex: 255 entries, 0 to 254\n",
      "Data columns (total 4 columns):\n",
      " #   Column          Non-Null Count  Dtype \n",
      "---  ------          --------------  ----- \n",
      " 0   COD_EMPRESA     255 non-null    object\n",
      " 1   COD_FILIAL      255 non-null    object\n",
      " 2   COD_AGLOMERADO  255 non-null    object\n",
      " 3   AGLOMERADO      255 non-null    object\n",
      "dtypes: object(4)\n",
      "memory usage: 8.1+ KB\n"
     ]
    },
    {
     "data": {
      "text/plain": [
       "None"
      ]
     },
     "metadata": {},
     "output_type": "display_data"
    }
   ],
   "source": [
    "# Passo: 3 Visualizar as informações do QVD\n",
    "display(qvd.info())"
   ]
  },
  {
   "cell_type": "code",
   "execution_count": 121,
   "metadata": {},
   "outputs": [
    {
     "data": {
      "text/plain": [
       "COD_EMPRESA\n",
       "16    98\n",
       "01    66\n",
       "20    13\n",
       "70    12\n",
       "05    11\n",
       "02     7\n",
       "76     5\n",
       "72     5\n",
       "03     4\n",
       "40     3\n",
       "71     3\n",
       "3E     1\n",
       "75     1\n",
       "8A     1\n",
       "80     1\n",
       "3C     1\n",
       "8B     1\n",
       "8C     1\n",
       "8D     1\n",
       "90     1\n",
       "17     1\n",
       "3D     1\n",
       "39     1\n",
       "3B     1\n",
       "3A     1\n",
       "38     1\n",
       "37     1\n",
       "36     1\n",
       "35     1\n",
       "34     1\n",
       "33     1\n",
       "32     1\n",
       "31     1\n",
       "30     1\n",
       "14     1\n",
       "12     1\n",
       "08     1\n",
       "06     1\n",
       "8E     1\n",
       "Name: count, dtype: int64"
      ]
     },
     "metadata": {},
     "output_type": "display_data"
    }
   ],
   "source": [
    "# Passo 3: Análise das empresas\n",
    "\n",
    "#Quantidade de Aglomerados associados ao Código de empresa\n",
    "display(qvd[\"COD_EMPRESA\"].value_counts())\n",
    "\n",
    "# Em percentual\n",
    "# display(qvd[\"COD_EMPRESA\"].value_counts(normalize=True).map(\"{:.1%}\".format))"
   ]
  },
  {
   "cell_type": "code",
   "execution_count": 140,
   "metadata": {},
   "outputs": [
    {
     "name": "stderr",
     "output_type": "stream",
     "text": [
      "C:\\Users\\rafael.barbosa\\AppData\\Local\\Temp\\ipykernel_7244\\3634955336.py:19: SettingWithCopyWarning:\n",
      "\n",
      "\n",
      "A value is trying to be set on a copy of a slice from a DataFrame.\n",
      "Try using .loc[row_indexer,col_indexer] = value instead\n",
      "\n",
      "See the caveats in the documentation: https://pandas.pydata.org/pandas-docs/stable/user_guide/indexing.html#returning-a-view-versus-a-copy\n",
      "\n"
     ]
    },
    {
     "data": {
      "application/vnd.plotly.v1+json": {
       "config": {
        "plotlyServerURL": "https://plot.ly"
       },
       "data": [
        {
         "alignmentgroup": "True",
         "bingroup": "x",
         "hovertemplate": "EMPRESAS=%{x}<br>count=%{y}<extra></extra>",
         "legendgroup": "",
         "marker": {
          "color": "#636efa",
          "pattern": {
           "shape": ""
          }
         },
         "name": "",
         "offsetgroup": "",
         "orientation": "v",
         "showlegend": false,
         "texttemplate": "%{value}",
         "type": "histogram",
         "x": [
          "ERAI",
          "ERAI",
          "ERAI",
          "ERAI",
          "ERAI",
          "ERAI",
          "ERAI",
          "ERAI",
          "ERAI",
          "ERAI",
          "ERAI",
          "ERAI",
          "ERAI",
          "ERAI",
          "ERAI",
          "ERAI",
          "ERAI",
          "ERAI",
          "ERAI",
          "ERAI",
          "ERAI",
          "ERAI",
          "ERAI",
          "ERAI",
          "ERAI",
          "ERAI",
          "ERAI",
          "ERAI",
          "ERAI",
          "ERAI",
          "ERAI",
          "ERAI",
          "ERAI",
          "ERAI",
          "ERAI",
          "ERAI",
          "ERAI",
          "ERAI",
          "ERAI",
          "ERAI",
          "ERAI",
          "ERAI",
          "ERAI",
          "ERAI",
          "ERAI",
          "ERAI",
          "ERAI",
          "ERAI",
          "ERAI",
          "ERAI",
          "ERAI",
          "ERAI",
          "ERAI",
          "ERAI",
          "ERAI",
          "ERAI",
          "ERAI",
          "ERAI",
          "ERAI",
          "ERAI",
          "ERAI",
          "ERAI",
          "ERAI",
          "ERAI",
          "ERAI",
          "ERAI",
          "ELUSMAR",
          "ELUSMAR",
          "ELUSMAR",
          "ELUSMAR",
          "ELUSMAR",
          "ELUSMAR",
          "ELUSMAR",
          "ELUSMAR",
          "ELUSMAR",
          "ELUSMAR",
          "ELUSMAR",
          "BOM FUTURO",
          "BOM FUTURO",
          "BOM FUTURO",
          "BOM FUTURO",
          "BOM FUTURO",
          "BOM FUTURO",
          "BOM FUTURO",
          "BOM FUTURO",
          "BOM FUTURO",
          "BOM FUTURO",
          "BOM FUTURO",
          "BOM FUTURO",
          "BOM FUTURO",
          "BOM FUTURO",
          "BOM FUTURO",
          "BOM FUTURO",
          "BOM FUTURO",
          "BOM FUTURO",
          "BOM FUTURO",
          "BOM FUTURO",
          "BOM FUTURO",
          "BOM FUTURO",
          "BOM FUTURO",
          "BOM FUTURO",
          "BOM FUTURO",
          "BOM FUTURO",
          "BOM FUTURO",
          "BOM FUTURO",
          "BOM FUTURO",
          "BOM FUTURO",
          "BOM FUTURO",
          "BOM FUTURO",
          "BOM FUTURO",
          "BOM FUTURO",
          "BOM FUTURO",
          "BOM FUTURO",
          "BOM FUTURO",
          "BOM FUTURO",
          "BOM FUTURO",
          "BOM FUTURO",
          "BOM FUTURO",
          "BOM FUTURO",
          "BOM FUTURO",
          "BOM FUTURO",
          "BOM FUTURO",
          "BOM FUTURO",
          "BOM FUTURO",
          "BOM FUTURO",
          "BOM FUTURO",
          "BOM FUTURO",
          "BOM FUTURO",
          "BOM FUTURO",
          "BOM FUTURO",
          "BOM FUTURO",
          "BOM FUTURO",
          "BOM FUTURO",
          "BOM FUTURO",
          "BOM FUTURO",
          "BOM FUTURO",
          "BOM FUTURO",
          "BOM FUTURO",
          "BOM FUTURO",
          "BOM FUTURO",
          "BOM FUTURO",
          "BOM FUTURO",
          "BOM FUTURO",
          "BOM FUTURO",
          "BOM FUTURO",
          "BOM FUTURO",
          "BOM FUTURO",
          "BOM FUTURO",
          "TRANSPORTADORA",
          "TRANSPORTADORA",
          "TRANSPORTADORA",
          "TRANSPORTADORA",
          "TRANSPORTADORA",
          "TRANSPORTADORA",
          "TRANSPORTADORA",
          "TRANSPORTADORA",
          "TRANSPORTADORA",
          "TRANSPORTADORA",
          "TRANSPORTADORA",
          "TRANSPORTADORA",
          "TRANSPORTADORA",
          "IBS SULINA",
          "IBS SULINA",
          "IBS SULINA",
          "IBS SULINA",
          "IBS SULINA",
          "IBS SULINA",
          "IBS SULINA",
          "IBS SULINA",
          "IBS SULINA",
          "IBS SULINA",
          "IBS SULINA",
          "IBS SULINA",
          "BOM FUTURO",
          "BOM FUTURO",
          "BOM FUTURO",
          "BOM FUTURO",
          "BOM FUTURO",
          "BOM FUTURO",
          "BOM FUTURO",
          "BOM FUTURO",
          "BOM FUTURO",
          "BOM FUTURO",
          "BOM FUTURO",
          "BOM FUTURO",
          "BOM FUTURO",
          "BOM FUTURO",
          "BOM FUTURO",
          "BOM FUTURO",
          "BOM FUTURO",
          "BOM FUTURO",
          "BOM FUTURO",
          "BOM FUTURO",
          "BOM FUTURO",
          "BOM FUTURO",
          "BOM FUTURO",
          "BOM FUTURO",
          "BOM FUTURO",
          "BOM FUTURO",
          "BOM FUTURO"
         ],
         "xaxis": "x",
         "yaxis": "y"
        }
       ],
       "layout": {
        "barmode": "relative",
        "legend": {
         "tracegroupgap": 0
        },
        "template": {
         "data": {
          "bar": [
           {
            "error_x": {
             "color": "#2a3f5f"
            },
            "error_y": {
             "color": "#2a3f5f"
            },
            "marker": {
             "line": {
              "color": "#E5ECF6",
              "width": 0.5
             },
             "pattern": {
              "fillmode": "overlay",
              "size": 10,
              "solidity": 0.2
             }
            },
            "type": "bar"
           }
          ],
          "barpolar": [
           {
            "marker": {
             "line": {
              "color": "#E5ECF6",
              "width": 0.5
             },
             "pattern": {
              "fillmode": "overlay",
              "size": 10,
              "solidity": 0.2
             }
            },
            "type": "barpolar"
           }
          ],
          "carpet": [
           {
            "aaxis": {
             "endlinecolor": "#2a3f5f",
             "gridcolor": "white",
             "linecolor": "white",
             "minorgridcolor": "white",
             "startlinecolor": "#2a3f5f"
            },
            "baxis": {
             "endlinecolor": "#2a3f5f",
             "gridcolor": "white",
             "linecolor": "white",
             "minorgridcolor": "white",
             "startlinecolor": "#2a3f5f"
            },
            "type": "carpet"
           }
          ],
          "choropleth": [
           {
            "colorbar": {
             "outlinewidth": 0,
             "ticks": ""
            },
            "type": "choropleth"
           }
          ],
          "contour": [
           {
            "colorbar": {
             "outlinewidth": 0,
             "ticks": ""
            },
            "colorscale": [
             [
              0,
              "#0d0887"
             ],
             [
              0.1111111111111111,
              "#46039f"
             ],
             [
              0.2222222222222222,
              "#7201a8"
             ],
             [
              0.3333333333333333,
              "#9c179e"
             ],
             [
              0.4444444444444444,
              "#bd3786"
             ],
             [
              0.5555555555555556,
              "#d8576b"
             ],
             [
              0.6666666666666666,
              "#ed7953"
             ],
             [
              0.7777777777777778,
              "#fb9f3a"
             ],
             [
              0.8888888888888888,
              "#fdca26"
             ],
             [
              1,
              "#f0f921"
             ]
            ],
            "type": "contour"
           }
          ],
          "contourcarpet": [
           {
            "colorbar": {
             "outlinewidth": 0,
             "ticks": ""
            },
            "type": "contourcarpet"
           }
          ],
          "heatmap": [
           {
            "colorbar": {
             "outlinewidth": 0,
             "ticks": ""
            },
            "colorscale": [
             [
              0,
              "#0d0887"
             ],
             [
              0.1111111111111111,
              "#46039f"
             ],
             [
              0.2222222222222222,
              "#7201a8"
             ],
             [
              0.3333333333333333,
              "#9c179e"
             ],
             [
              0.4444444444444444,
              "#bd3786"
             ],
             [
              0.5555555555555556,
              "#d8576b"
             ],
             [
              0.6666666666666666,
              "#ed7953"
             ],
             [
              0.7777777777777778,
              "#fb9f3a"
             ],
             [
              0.8888888888888888,
              "#fdca26"
             ],
             [
              1,
              "#f0f921"
             ]
            ],
            "type": "heatmap"
           }
          ],
          "heatmapgl": [
           {
            "colorbar": {
             "outlinewidth": 0,
             "ticks": ""
            },
            "colorscale": [
             [
              0,
              "#0d0887"
             ],
             [
              0.1111111111111111,
              "#46039f"
             ],
             [
              0.2222222222222222,
              "#7201a8"
             ],
             [
              0.3333333333333333,
              "#9c179e"
             ],
             [
              0.4444444444444444,
              "#bd3786"
             ],
             [
              0.5555555555555556,
              "#d8576b"
             ],
             [
              0.6666666666666666,
              "#ed7953"
             ],
             [
              0.7777777777777778,
              "#fb9f3a"
             ],
             [
              0.8888888888888888,
              "#fdca26"
             ],
             [
              1,
              "#f0f921"
             ]
            ],
            "type": "heatmapgl"
           }
          ],
          "histogram": [
           {
            "marker": {
             "pattern": {
              "fillmode": "overlay",
              "size": 10,
              "solidity": 0.2
             }
            },
            "type": "histogram"
           }
          ],
          "histogram2d": [
           {
            "colorbar": {
             "outlinewidth": 0,
             "ticks": ""
            },
            "colorscale": [
             [
              0,
              "#0d0887"
             ],
             [
              0.1111111111111111,
              "#46039f"
             ],
             [
              0.2222222222222222,
              "#7201a8"
             ],
             [
              0.3333333333333333,
              "#9c179e"
             ],
             [
              0.4444444444444444,
              "#bd3786"
             ],
             [
              0.5555555555555556,
              "#d8576b"
             ],
             [
              0.6666666666666666,
              "#ed7953"
             ],
             [
              0.7777777777777778,
              "#fb9f3a"
             ],
             [
              0.8888888888888888,
              "#fdca26"
             ],
             [
              1,
              "#f0f921"
             ]
            ],
            "type": "histogram2d"
           }
          ],
          "histogram2dcontour": [
           {
            "colorbar": {
             "outlinewidth": 0,
             "ticks": ""
            },
            "colorscale": [
             [
              0,
              "#0d0887"
             ],
             [
              0.1111111111111111,
              "#46039f"
             ],
             [
              0.2222222222222222,
              "#7201a8"
             ],
             [
              0.3333333333333333,
              "#9c179e"
             ],
             [
              0.4444444444444444,
              "#bd3786"
             ],
             [
              0.5555555555555556,
              "#d8576b"
             ],
             [
              0.6666666666666666,
              "#ed7953"
             ],
             [
              0.7777777777777778,
              "#fb9f3a"
             ],
             [
              0.8888888888888888,
              "#fdca26"
             ],
             [
              1,
              "#f0f921"
             ]
            ],
            "type": "histogram2dcontour"
           }
          ],
          "mesh3d": [
           {
            "colorbar": {
             "outlinewidth": 0,
             "ticks": ""
            },
            "type": "mesh3d"
           }
          ],
          "parcoords": [
           {
            "line": {
             "colorbar": {
              "outlinewidth": 0,
              "ticks": ""
             }
            },
            "type": "parcoords"
           }
          ],
          "pie": [
           {
            "automargin": true,
            "type": "pie"
           }
          ],
          "scatter": [
           {
            "fillpattern": {
             "fillmode": "overlay",
             "size": 10,
             "solidity": 0.2
            },
            "type": "scatter"
           }
          ],
          "scatter3d": [
           {
            "line": {
             "colorbar": {
              "outlinewidth": 0,
              "ticks": ""
             }
            },
            "marker": {
             "colorbar": {
              "outlinewidth": 0,
              "ticks": ""
             }
            },
            "type": "scatter3d"
           }
          ],
          "scattercarpet": [
           {
            "marker": {
             "colorbar": {
              "outlinewidth": 0,
              "ticks": ""
             }
            },
            "type": "scattercarpet"
           }
          ],
          "scattergeo": [
           {
            "marker": {
             "colorbar": {
              "outlinewidth": 0,
              "ticks": ""
             }
            },
            "type": "scattergeo"
           }
          ],
          "scattergl": [
           {
            "marker": {
             "colorbar": {
              "outlinewidth": 0,
              "ticks": ""
             }
            },
            "type": "scattergl"
           }
          ],
          "scattermapbox": [
           {
            "marker": {
             "colorbar": {
              "outlinewidth": 0,
              "ticks": ""
             }
            },
            "type": "scattermapbox"
           }
          ],
          "scatterpolar": [
           {
            "marker": {
             "colorbar": {
              "outlinewidth": 0,
              "ticks": ""
             }
            },
            "type": "scatterpolar"
           }
          ],
          "scatterpolargl": [
           {
            "marker": {
             "colorbar": {
              "outlinewidth": 0,
              "ticks": ""
             }
            },
            "type": "scatterpolargl"
           }
          ],
          "scatterternary": [
           {
            "marker": {
             "colorbar": {
              "outlinewidth": 0,
              "ticks": ""
             }
            },
            "type": "scatterternary"
           }
          ],
          "surface": [
           {
            "colorbar": {
             "outlinewidth": 0,
             "ticks": ""
            },
            "colorscale": [
             [
              0,
              "#0d0887"
             ],
             [
              0.1111111111111111,
              "#46039f"
             ],
             [
              0.2222222222222222,
              "#7201a8"
             ],
             [
              0.3333333333333333,
              "#9c179e"
             ],
             [
              0.4444444444444444,
              "#bd3786"
             ],
             [
              0.5555555555555556,
              "#d8576b"
             ],
             [
              0.6666666666666666,
              "#ed7953"
             ],
             [
              0.7777777777777778,
              "#fb9f3a"
             ],
             [
              0.8888888888888888,
              "#fdca26"
             ],
             [
              1,
              "#f0f921"
             ]
            ],
            "type": "surface"
           }
          ],
          "table": [
           {
            "cells": {
             "fill": {
              "color": "#EBF0F8"
             },
             "line": {
              "color": "white"
             }
            },
            "header": {
             "fill": {
              "color": "#C8D4E3"
             },
             "line": {
              "color": "white"
             }
            },
            "type": "table"
           }
          ]
         },
         "layout": {
          "annotationdefaults": {
           "arrowcolor": "#2a3f5f",
           "arrowhead": 0,
           "arrowwidth": 1
          },
          "autotypenumbers": "strict",
          "coloraxis": {
           "colorbar": {
            "outlinewidth": 0,
            "ticks": ""
           }
          },
          "colorscale": {
           "diverging": [
            [
             0,
             "#8e0152"
            ],
            [
             0.1,
             "#c51b7d"
            ],
            [
             0.2,
             "#de77ae"
            ],
            [
             0.3,
             "#f1b6da"
            ],
            [
             0.4,
             "#fde0ef"
            ],
            [
             0.5,
             "#f7f7f7"
            ],
            [
             0.6,
             "#e6f5d0"
            ],
            [
             0.7,
             "#b8e186"
            ],
            [
             0.8,
             "#7fbc41"
            ],
            [
             0.9,
             "#4d9221"
            ],
            [
             1,
             "#276419"
            ]
           ],
           "sequential": [
            [
             0,
             "#0d0887"
            ],
            [
             0.1111111111111111,
             "#46039f"
            ],
            [
             0.2222222222222222,
             "#7201a8"
            ],
            [
             0.3333333333333333,
             "#9c179e"
            ],
            [
             0.4444444444444444,
             "#bd3786"
            ],
            [
             0.5555555555555556,
             "#d8576b"
            ],
            [
             0.6666666666666666,
             "#ed7953"
            ],
            [
             0.7777777777777778,
             "#fb9f3a"
            ],
            [
             0.8888888888888888,
             "#fdca26"
            ],
            [
             1,
             "#f0f921"
            ]
           ],
           "sequentialminus": [
            [
             0,
             "#0d0887"
            ],
            [
             0.1111111111111111,
             "#46039f"
            ],
            [
             0.2222222222222222,
             "#7201a8"
            ],
            [
             0.3333333333333333,
             "#9c179e"
            ],
            [
             0.4444444444444444,
             "#bd3786"
            ],
            [
             0.5555555555555556,
             "#d8576b"
            ],
            [
             0.6666666666666666,
             "#ed7953"
            ],
            [
             0.7777777777777778,
             "#fb9f3a"
            ],
            [
             0.8888888888888888,
             "#fdca26"
            ],
            [
             1,
             "#f0f921"
            ]
           ]
          },
          "colorway": [
           "#636efa",
           "#EF553B",
           "#00cc96",
           "#ab63fa",
           "#FFA15A",
           "#19d3f3",
           "#FF6692",
           "#B6E880",
           "#FF97FF",
           "#FECB52"
          ],
          "font": {
           "color": "#2a3f5f"
          },
          "geo": {
           "bgcolor": "white",
           "lakecolor": "white",
           "landcolor": "#E5ECF6",
           "showlakes": true,
           "showland": true,
           "subunitcolor": "white"
          },
          "hoverlabel": {
           "align": "left"
          },
          "hovermode": "closest",
          "mapbox": {
           "style": "light"
          },
          "paper_bgcolor": "white",
          "plot_bgcolor": "#E5ECF6",
          "polar": {
           "angularaxis": {
            "gridcolor": "white",
            "linecolor": "white",
            "ticks": ""
           },
           "bgcolor": "#E5ECF6",
           "radialaxis": {
            "gridcolor": "white",
            "linecolor": "white",
            "ticks": ""
           }
          },
          "scene": {
           "xaxis": {
            "backgroundcolor": "#E5ECF6",
            "gridcolor": "white",
            "gridwidth": 2,
            "linecolor": "white",
            "showbackground": true,
            "ticks": "",
            "zerolinecolor": "white"
           },
           "yaxis": {
            "backgroundcolor": "#E5ECF6",
            "gridcolor": "white",
            "gridwidth": 2,
            "linecolor": "white",
            "showbackground": true,
            "ticks": "",
            "zerolinecolor": "white"
           },
           "zaxis": {
            "backgroundcolor": "#E5ECF6",
            "gridcolor": "white",
            "gridwidth": 2,
            "linecolor": "white",
            "showbackground": true,
            "ticks": "",
            "zerolinecolor": "white"
           }
          },
          "shapedefaults": {
           "line": {
            "color": "#2a3f5f"
           }
          },
          "ternary": {
           "aaxis": {
            "gridcolor": "white",
            "linecolor": "white",
            "ticks": ""
           },
           "baxis": {
            "gridcolor": "white",
            "linecolor": "white",
            "ticks": ""
           },
           "bgcolor": "#E5ECF6",
           "caxis": {
            "gridcolor": "white",
            "linecolor": "white",
            "ticks": ""
           }
          },
          "title": {
           "x": 0.05
          },
          "xaxis": {
           "automargin": true,
           "gridcolor": "white",
           "linecolor": "white",
           "ticks": "",
           "title": {
            "standoff": 15
           },
           "zerolinecolor": "white",
           "zerolinewidth": 2
          },
          "yaxis": {
           "automargin": true,
           "gridcolor": "white",
           "linecolor": "white",
           "ticks": "",
           "title": {
            "standoff": 15
           },
           "zerolinecolor": "white",
           "zerolinewidth": 2
          }
         }
        },
        "title": {
         "text": "Quantidade de Aglomerados por Empresa"
        },
        "xaxis": {
         "anchor": "y",
         "domain": [
          0,
          1
         ],
         "title": {
          "text": "EMPRESAS"
         }
        },
        "yaxis": {
         "anchor": "x",
         "domain": [
          0,
          1
         ],
         "title": {
          "text": "count"
         }
        }
       }
      }
     },
     "metadata": {},
     "output_type": "display_data"
    },
    {
     "data": {
      "application/vnd.plotly.v1+json": {
       "config": {
        "plotlyServerURL": "https://plot.ly"
       },
       "data": [
        {
         "alignmentgroup": "True",
         "bingroup": "x",
         "hovertemplate": "AGLOMERADO=BOM FUTURO<br>COD_EMPRESA=%{x}<br>count=%{y}<extra></extra>",
         "legendgroup": "BOM FUTURO",
         "marker": {
          "color": "#636efa",
          "pattern": {
           "shape": ""
          }
         },
         "name": "BOM FUTURO",
         "offsetgroup": "BOM FUTURO",
         "orientation": "v",
         "showlegend": true,
         "type": "histogram",
         "x": [
          "ERAI",
          "ERAI",
          "BOM FUTURO",
          "BOM FUTURO",
          "IBS SULINA"
         ],
         "xaxis": "x",
         "yaxis": "y"
        },
        {
         "alignmentgroup": "True",
         "bingroup": "x",
         "hovertemplate": "AGLOMERADO=COLIBRI<br>COD_EMPRESA=%{x}<br>count=%{y}<extra></extra>",
         "legendgroup": "COLIBRI",
         "marker": {
          "color": "#EF553B",
          "pattern": {
           "shape": ""
          }
         },
         "name": "COLIBRI",
         "offsetgroup": "COLIBRI",
         "orientation": "v",
         "showlegend": true,
         "type": "histogram",
         "x": [
          "ERAI",
          "BOM FUTURO",
          "BOM FUTURO"
         ],
         "xaxis": "x",
         "yaxis": "y"
        },
        {
         "alignmentgroup": "True",
         "bingroup": "x",
         "hovertemplate": "AGLOMERADO=RONDONOPOLIS<br>COD_EMPRESA=%{x}<br>count=%{y}<extra></extra>",
         "legendgroup": "RONDONOPOLIS",
         "marker": {
          "color": "#00cc96",
          "pattern": {
           "shape": ""
          }
         },
         "name": "RONDONOPOLIS",
         "offsetgroup": "RONDONOPOLIS",
         "orientation": "v",
         "showlegend": true,
         "type": "histogram",
         "x": [
          "ERAI",
          "ERAI",
          "BOM FUTURO"
         ],
         "xaxis": "x",
         "yaxis": "y"
        },
        {
         "alignmentgroup": "True",
         "bingroup": "x",
         "hovertemplate": "AGLOMERADO=AMPARO<br>COD_EMPRESA=%{x}<br>count=%{y}<extra></extra>",
         "legendgroup": "AMPARO",
         "marker": {
          "color": "#ab63fa",
          "pattern": {
           "shape": ""
          }
         },
         "name": "AMPARO",
         "offsetgroup": "AMPARO",
         "orientation": "v",
         "showlegend": true,
         "type": "histogram",
         "x": [
          "ERAI"
         ],
         "xaxis": "x",
         "yaxis": "y"
        },
        {
         "alignmentgroup": "True",
         "bingroup": "x",
         "hovertemplate": "AGLOMERADO=CARAJAS<br>COD_EMPRESA=%{x}<br>count=%{y}<extra></extra>",
         "legendgroup": "CARAJAS",
         "marker": {
          "color": "#FFA15A",
          "pattern": {
           "shape": ""
          }
         },
         "name": "CARAJAS",
         "offsetgroup": "CARAJAS",
         "orientation": "v",
         "showlegend": true,
         "type": "histogram",
         "x": [
          "ERAI",
          "BOM FUTURO",
          "BOM FUTURO",
          "BOM FUTURO"
         ],
         "xaxis": "x",
         "yaxis": "y"
        },
        {
         "alignmentgroup": "True",
         "bingroup": "x",
         "hovertemplate": "AGLOMERADO=GOTARDO<br>COD_EMPRESA=%{x}<br>count=%{y}<extra></extra>",
         "legendgroup": "GOTARDO",
         "marker": {
          "color": "#19d3f3",
          "pattern": {
           "shape": ""
          }
         },
         "name": "GOTARDO",
         "offsetgroup": "GOTARDO",
         "orientation": "v",
         "showlegend": true,
         "type": "histogram",
         "x": [
          "ERAI"
         ],
         "xaxis": "x",
         "yaxis": "y"
        },
        {
         "alignmentgroup": "True",
         "bingroup": "x",
         "hovertemplate": "AGLOMERADO=SANTA LUZIA<br>COD_EMPRESA=%{x}<br>count=%{y}<extra></extra>",
         "legendgroup": "SANTA LUZIA",
         "marker": {
          "color": "#FF6692",
          "pattern": {
           "shape": ""
          }
         },
         "name": "SANTA LUZIA",
         "offsetgroup": "SANTA LUZIA",
         "orientation": "v",
         "showlegend": true,
         "type": "histogram",
         "x": [
          "ERAI",
          "ERAI",
          "BOM FUTURO",
          "BOM FUTURO"
         ],
         "xaxis": "x",
         "yaxis": "y"
        },
        {
         "alignmentgroup": "True",
         "bingroup": "x",
         "hovertemplate": "AGLOMERADO=SAPEZAL<br>COD_EMPRESA=%{x}<br>count=%{y}<extra></extra>",
         "legendgroup": "SAPEZAL",
         "marker": {
          "color": "#B6E880",
          "pattern": {
           "shape": ""
          }
         },
         "name": "SAPEZAL",
         "offsetgroup": "SAPEZAL",
         "orientation": "v",
         "showlegend": true,
         "type": "histogram",
         "x": [
          "ERAI",
          "ERAI",
          "ERAI",
          "ERAI",
          "BOM FUTURO",
          "BOM FUTURO",
          "BOM FUTURO",
          "BOM FUTURO",
          "TRANSPORTADORA"
         ],
         "xaxis": "x",
         "yaxis": "y"
        },
        {
         "alignmentgroup": "True",
         "bingroup": "x",
         "hovertemplate": "AGLOMERADO=PLANTA<br>COD_EMPRESA=%{x}<br>count=%{y}<extra></extra>",
         "legendgroup": "PLANTA",
         "marker": {
          "color": "#FF97FF",
          "pattern": {
           "shape": ""
          }
         },
         "name": "PLANTA",
         "offsetgroup": "PLANTA",
         "orientation": "v",
         "showlegend": true,
         "type": "histogram",
         "x": [
          "ERAI",
          "BOM FUTURO",
          "BOM FUTURO",
          "BOM FUTURO"
         ],
         "xaxis": "x",
         "yaxis": "y"
        },
        {
         "alignmentgroup": "True",
         "bingroup": "x",
         "hovertemplate": "AGLOMERADO=VOVO ERNESTO<br>COD_EMPRESA=%{x}<br>count=%{y}<extra></extra>",
         "legendgroup": "VOVO ERNESTO",
         "marker": {
          "color": "#FECB52",
          "pattern": {
           "shape": ""
          }
         },
         "name": "VOVO ERNESTO",
         "offsetgroup": "VOVO ERNESTO",
         "orientation": "v",
         "showlegend": true,
         "type": "histogram",
         "x": [
          "ERAI",
          "BOM FUTURO",
          "BOM FUTURO",
          "TRANSPORTADORA"
         ],
         "xaxis": "x",
         "yaxis": "y"
        },
        {
         "alignmentgroup": "True",
         "bingroup": "x",
         "hovertemplate": "AGLOMERADO=NOVA MUTUM<br>COD_EMPRESA=%{x}<br>count=%{y}<extra></extra>",
         "legendgroup": "NOVA MUTUM",
         "marker": {
          "color": "#636efa",
          "pattern": {
           "shape": ""
          }
         },
         "name": "NOVA MUTUM",
         "offsetgroup": "NOVA MUTUM",
         "orientation": "v",
         "showlegend": true,
         "type": "histogram",
         "x": [
          "ERAI",
          "BOM FUTURO"
         ],
         "xaxis": "x",
         "yaxis": "y"
        },
        {
         "alignmentgroup": "True",
         "bingroup": "x",
         "hovertemplate": "AGLOMERADO=FARTURA<br>COD_EMPRESA=%{x}<br>count=%{y}<extra></extra>",
         "legendgroup": "FARTURA",
         "marker": {
          "color": "#EF553B",
          "pattern": {
           "shape": ""
          }
         },
         "name": "FARTURA",
         "offsetgroup": "FARTURA",
         "orientation": "v",
         "showlegend": true,
         "type": "histogram",
         "x": [
          "ERAI",
          "BOM FUTURO",
          "BOM FUTURO",
          "BOM FUTURO",
          "BOM FUTURO",
          "IBS SULINA",
          "BOM FUTURO",
          "BOM FUTURO"
         ],
         "xaxis": "x",
         "yaxis": "y"
        },
        {
         "alignmentgroup": "True",
         "bingroup": "x",
         "hovertemplate": "AGLOMERADO=FILADELFIA<br>COD_EMPRESA=%{x}<br>count=%{y}<extra></extra>",
         "legendgroup": "FILADELFIA",
         "marker": {
          "color": "#00cc96",
          "pattern": {
           "shape": ""
          }
         },
         "name": "FILADELFIA",
         "offsetgroup": "FILADELFIA",
         "orientation": "v",
         "showlegend": true,
         "type": "histogram",
         "x": [
          "ERAI",
          "ERAI",
          "BOM FUTURO",
          "BOM FUTURO",
          "IBS SULINA"
         ],
         "xaxis": "x",
         "yaxis": "y"
        },
        {
         "alignmentgroup": "True",
         "bingroup": "x",
         "hovertemplate": "AGLOMERADO=AGUA AZUL<br>COD_EMPRESA=%{x}<br>count=%{y}<extra></extra>",
         "legendgroup": "AGUA AZUL",
         "marker": {
          "color": "#ab63fa",
          "pattern": {
           "shape": ""
          }
         },
         "name": "AGUA AZUL",
         "offsetgroup": "AGUA AZUL",
         "orientation": "v",
         "showlegend": true,
         "type": "histogram",
         "x": [
          "ERAI",
          "ERAI",
          "BOM FUTURO",
          "BOM FUTURO",
          "BOM FUTURO",
          "IBS SULINA"
         ],
         "xaxis": "x",
         "yaxis": "y"
        },
        {
         "alignmentgroup": "True",
         "bingroup": "x",
         "hovertemplate": "AGLOMERADO=SAN DIEGO<br>COD_EMPRESA=%{x}<br>count=%{y}<extra></extra>",
         "legendgroup": "SAN DIEGO",
         "marker": {
          "color": "#FFA15A",
          "pattern": {
           "shape": ""
          }
         },
         "name": "SAN DIEGO",
         "offsetgroup": "SAN DIEGO",
         "orientation": "v",
         "showlegend": true,
         "type": "histogram",
         "x": [
          "ERAI",
          "BOM FUTURO",
          "BOM FUTURO"
         ],
         "xaxis": "x",
         "yaxis": "y"
        },
        {
         "alignmentgroup": "True",
         "bingroup": "x",
         "hovertemplate": "AGLOMERADO=SAO MIGUEL<br>COD_EMPRESA=%{x}<br>count=%{y}<extra></extra>",
         "legendgroup": "SAO MIGUEL",
         "marker": {
          "color": "#19d3f3",
          "pattern": {
           "shape": ""
          }
         },
         "name": "SAO MIGUEL",
         "offsetgroup": "SAO MIGUEL",
         "orientation": "v",
         "showlegend": true,
         "type": "histogram",
         "x": [
          "ERAI",
          "BOM FUTURO",
          "BOM FUTURO",
          "IBS SULINA"
         ],
         "xaxis": "x",
         "yaxis": "y"
        },
        {
         "alignmentgroup": "True",
         "bingroup": "x",
         "hovertemplate": "AGLOMERADO=CAMPO VERDE<br>COD_EMPRESA=%{x}<br>count=%{y}<extra></extra>",
         "legendgroup": "CAMPO VERDE",
         "marker": {
          "color": "#FF6692",
          "pattern": {
           "shape": ""
          }
         },
         "name": "CAMPO VERDE",
         "offsetgroup": "CAMPO VERDE",
         "orientation": "v",
         "showlegend": true,
         "type": "histogram",
         "x": [
          "ERAI"
         ],
         "xaxis": "x",
         "yaxis": "y"
        },
        {
         "alignmentgroup": "True",
         "bingroup": "x",
         "hovertemplate": "AGLOMERADO=AGROMAR<br>COD_EMPRESA=%{x}<br>count=%{y}<extra></extra>",
         "legendgroup": "AGROMAR",
         "marker": {
          "color": "#B6E880",
          "pattern": {
           "shape": ""
          }
         },
         "name": "AGROMAR",
         "offsetgroup": "AGROMAR",
         "orientation": "v",
         "showlegend": true,
         "type": "histogram",
         "x": [
          "ERAI",
          "BOM FUTURO",
          "BOM FUTURO",
          "TRANSPORTADORA",
          "BOM FUTURO"
         ],
         "xaxis": "x",
         "yaxis": "y"
        },
        {
         "alignmentgroup": "True",
         "bingroup": "x",
         "hovertemplate": "AGLOMERADO=ITAIPU<br>COD_EMPRESA=%{x}<br>count=%{y}<extra></extra>",
         "legendgroup": "ITAIPU",
         "marker": {
          "color": "#FF97FF",
          "pattern": {
           "shape": ""
          }
         },
         "name": "ITAIPU",
         "offsetgroup": "ITAIPU",
         "orientation": "v",
         "showlegend": true,
         "type": "histogram",
         "x": [
          "ERAI",
          "BOM FUTURO",
          "BOM FUTURO",
          "TRANSPORTADORA",
          "BOM FUTURO",
          "BOM FUTURO"
         ],
         "xaxis": "x",
         "yaxis": "y"
        },
        {
         "alignmentgroup": "True",
         "bingroup": "x",
         "hovertemplate": "AGLOMERADO=GRAVATAI<br>COD_EMPRESA=%{x}<br>count=%{y}<extra></extra>",
         "legendgroup": "GRAVATAI",
         "marker": {
          "color": "#FECB52",
          "pattern": {
           "shape": ""
          }
         },
         "name": "GRAVATAI",
         "offsetgroup": "GRAVATAI",
         "orientation": "v",
         "showlegend": true,
         "type": "histogram",
         "x": [
          "ERAI"
         ],
         "xaxis": "x",
         "yaxis": "y"
        },
        {
         "alignmentgroup": "True",
         "bingroup": "x",
         "hovertemplate": "AGLOMERADO=COLORADO<br>COD_EMPRESA=%{x}<br>count=%{y}<extra></extra>",
         "legendgroup": "COLORADO",
         "marker": {
          "color": "#636efa",
          "pattern": {
           "shape": ""
          }
         },
         "name": "COLORADO",
         "offsetgroup": "COLORADO",
         "orientation": "v",
         "showlegend": true,
         "type": "histogram",
         "x": [
          "ERAI",
          "BOM FUTURO",
          "BOM FUTURO",
          "BOM FUTURO",
          "BOM FUTURO",
          "TRANSPORTADORA",
          "BOM FUTURO"
         ],
         "xaxis": "x",
         "yaxis": "y"
        },
        {
         "alignmentgroup": "True",
         "bingroup": "x",
         "hovertemplate": "AGLOMERADO=PARECIS<br>COD_EMPRESA=%{x}<br>count=%{y}<extra></extra>",
         "legendgroup": "PARECIS",
         "marker": {
          "color": "#EF553B",
          "pattern": {
           "shape": ""
          }
         },
         "name": "PARECIS",
         "offsetgroup": "PARECIS",
         "orientation": "v",
         "showlegend": true,
         "type": "histogram",
         "x": [
          "ERAI",
          "BOM FUTURO",
          "BOM FUTURO"
         ],
         "xaxis": "x",
         "yaxis": "y"
        },
        {
         "alignmentgroup": "True",
         "bingroup": "x",
         "hovertemplate": "AGLOMERADO=COCAL<br>COD_EMPRESA=%{x}<br>count=%{y}<extra></extra>",
         "legendgroup": "COCAL",
         "marker": {
          "color": "#00cc96",
          "pattern": {
           "shape": ""
          }
         },
         "name": "COCAL",
         "offsetgroup": "COCAL",
         "orientation": "v",
         "showlegend": true,
         "type": "histogram",
         "x": [
          "ERAI",
          "ERAI",
          "BOM FUTURO",
          "BOM FUTURO",
          "IBS SULINA"
         ],
         "xaxis": "x",
         "yaxis": "y"
        },
        {
         "alignmentgroup": "True",
         "bingroup": "x",
         "hovertemplate": "AGLOMERADO=CHARRUA<br>COD_EMPRESA=%{x}<br>count=%{y}<extra></extra>",
         "legendgroup": "CHARRUA",
         "marker": {
          "color": "#ab63fa",
          "pattern": {
           "shape": ""
          }
         },
         "name": "CHARRUA",
         "offsetgroup": "CHARRUA",
         "orientation": "v",
         "showlegend": true,
         "type": "histogram",
         "x": [
          "ERAI"
         ],
         "xaxis": "x",
         "yaxis": "y"
        },
        {
         "alignmentgroup": "True",
         "bingroup": "x",
         "hovertemplate": "AGLOMERADO=PEDRA NEGRA<br>COD_EMPRESA=%{x}<br>count=%{y}<extra></extra>",
         "legendgroup": "PEDRA NEGRA",
         "marker": {
          "color": "#FFA15A",
          "pattern": {
           "shape": ""
          }
         },
         "name": "PEDRA NEGRA",
         "offsetgroup": "PEDRA NEGRA",
         "orientation": "v",
         "showlegend": true,
         "type": "histogram",
         "x": [
          "ERAI"
         ],
         "xaxis": "x",
         "yaxis": "y"
        },
        {
         "alignmentgroup": "True",
         "bingroup": "x",
         "hovertemplate": "AGLOMERADO=MALU<br>COD_EMPRESA=%{x}<br>count=%{y}<extra></extra>",
         "legendgroup": "MALU",
         "marker": {
          "color": "#19d3f3",
          "pattern": {
           "shape": ""
          }
         },
         "name": "MALU",
         "offsetgroup": "MALU",
         "orientation": "v",
         "showlegend": true,
         "type": "histogram",
         "x": [
          "ERAI",
          "BOM FUTURO",
          "BOM FUTURO",
          "BOM FUTURO",
          "TRANSPORTADORA",
          "IBS SULINA",
          "BOM FUTURO"
         ],
         "xaxis": "x",
         "yaxis": "y"
        },
        {
         "alignmentgroup": "True",
         "bingroup": "x",
         "hovertemplate": "AGLOMERADO=SIMARELLI<br>COD_EMPRESA=%{x}<br>count=%{y}<extra></extra>",
         "legendgroup": "SIMARELLI",
         "marker": {
          "color": "#FF6692",
          "pattern": {
           "shape": ""
          }
         },
         "name": "SIMARELLI",
         "offsetgroup": "SIMARELLI",
         "orientation": "v",
         "showlegend": true,
         "type": "histogram",
         "x": [
          "ERAI",
          "BOM FUTURO"
         ],
         "xaxis": "x",
         "yaxis": "y"
        },
        {
         "alignmentgroup": "True",
         "bingroup": "x",
         "hovertemplate": "AGLOMERADO=JAVANEZA<br>COD_EMPRESA=%{x}<br>count=%{y}<extra></extra>",
         "legendgroup": "JAVANEZA",
         "marker": {
          "color": "#B6E880",
          "pattern": {
           "shape": ""
          }
         },
         "name": "JAVANEZA",
         "offsetgroup": "JAVANEZA",
         "orientation": "v",
         "showlegend": true,
         "type": "histogram",
         "x": [
          "ERAI"
         ],
         "xaxis": "x",
         "yaxis": "y"
        },
        {
         "alignmentgroup": "True",
         "bingroup": "x",
         "hovertemplate": "AGLOMERADO=MAMOSE<br>COD_EMPRESA=%{x}<br>count=%{y}<extra></extra>",
         "legendgroup": "MAMOSE",
         "marker": {
          "color": "#FF97FF",
          "pattern": {
           "shape": ""
          }
         },
         "name": "MAMOSE",
         "offsetgroup": "MAMOSE",
         "orientation": "v",
         "showlegend": true,
         "type": "histogram",
         "x": [
          "ERAI",
          "BOM FUTURO",
          "BOM FUTURO"
         ],
         "xaxis": "x",
         "yaxis": "y"
        },
        {
         "alignmentgroup": "True",
         "bingroup": "x",
         "hovertemplate": "AGLOMERADO=CHACARA<br>COD_EMPRESA=%{x}<br>count=%{y}<extra></extra>",
         "legendgroup": "CHACARA",
         "marker": {
          "color": "#FECB52",
          "pattern": {
           "shape": ""
          }
         },
         "name": "CHACARA",
         "offsetgroup": "CHACARA",
         "orientation": "v",
         "showlegend": true,
         "type": "histogram",
         "x": [
          "ERAI",
          "ERAI"
         ],
         "xaxis": "x",
         "yaxis": "y"
        },
        {
         "alignmentgroup": "True",
         "bingroup": "x",
         "hovertemplate": "AGLOMERADO=CUIABA<br>COD_EMPRESA=%{x}<br>count=%{y}<extra></extra>",
         "legendgroup": "CUIABA",
         "marker": {
          "color": "#636efa",
          "pattern": {
           "shape": ""
          }
         },
         "name": "CUIABA",
         "offsetgroup": "CUIABA",
         "orientation": "v",
         "showlegend": true,
         "type": "histogram",
         "x": [
          "ERAI",
          "ERAI",
          "BOM FUTURO",
          "BOM FUTURO",
          "BOM FUTURO",
          "BOM FUTURO"
         ],
         "xaxis": "x",
         "yaxis": "y"
        },
        {
         "alignmentgroup": "True",
         "bingroup": "x",
         "hovertemplate": "AGLOMERADO=CEREJAL<br>COD_EMPRESA=%{x}<br>count=%{y}<extra></extra>",
         "legendgroup": "CEREJAL",
         "marker": {
          "color": "#EF553B",
          "pattern": {
           "shape": ""
          }
         },
         "name": "CEREJAL",
         "offsetgroup": "CEREJAL",
         "orientation": "v",
         "showlegend": true,
         "type": "histogram",
         "x": [
          "ERAI"
         ],
         "xaxis": "x",
         "yaxis": "y"
        },
        {
         "alignmentgroup": "True",
         "bingroup": "x",
         "hovertemplate": "AGLOMERADO=SERRA AZUL<br>COD_EMPRESA=%{x}<br>count=%{y}<extra></extra>",
         "legendgroup": "SERRA AZUL",
         "marker": {
          "color": "#00cc96",
          "pattern": {
           "shape": ""
          }
         },
         "name": "SERRA AZUL",
         "offsetgroup": "SERRA AZUL",
         "orientation": "v",
         "showlegend": true,
         "type": "histogram",
         "x": [
          "ERAI",
          "BOM FUTURO"
         ],
         "xaxis": "x",
         "yaxis": "y"
        },
        {
         "alignmentgroup": "True",
         "bingroup": "x",
         "hovertemplate": "AGLOMERADO=SANTA ROSA<br>COD_EMPRESA=%{x}<br>count=%{y}<extra></extra>",
         "legendgroup": "SANTA ROSA",
         "marker": {
          "color": "#ab63fa",
          "pattern": {
           "shape": ""
          }
         },
         "name": "SANTA ROSA",
         "offsetgroup": "SANTA ROSA",
         "orientation": "v",
         "showlegend": true,
         "type": "histogram",
         "x": [
          "ERAI",
          "BOM FUTURO"
         ],
         "xaxis": "x",
         "yaxis": "y"
        },
        {
         "alignmentgroup": "True",
         "bingroup": "x",
         "hovertemplate": "AGLOMERADO=QUERENCIA<br>COD_EMPRESA=%{x}<br>count=%{y}<extra></extra>",
         "legendgroup": "QUERENCIA",
         "marker": {
          "color": "#FFA15A",
          "pattern": {
           "shape": ""
          }
         },
         "name": "QUERENCIA",
         "offsetgroup": "QUERENCIA",
         "orientation": "v",
         "showlegend": true,
         "type": "histogram",
         "x": [
          "ERAI"
         ],
         "xaxis": "x",
         "yaxis": "y"
        },
        {
         "alignmentgroup": "True",
         "bingroup": "x",
         "hovertemplate": "AGLOMERADO=QUATRO MARCOS<br>COD_EMPRESA=%{x}<br>count=%{y}<extra></extra>",
         "legendgroup": "QUATRO MARCOS",
         "marker": {
          "color": "#19d3f3",
          "pattern": {
           "shape": ""
          }
         },
         "name": "QUATRO MARCOS",
         "offsetgroup": "QUATRO MARCOS",
         "orientation": "v",
         "showlegend": true,
         "type": "histogram",
         "x": [
          "ERAI"
         ],
         "xaxis": "x",
         "yaxis": "y"
        },
        {
         "alignmentgroup": "True",
         "bingroup": "x",
         "hovertemplate": "AGLOMERADO=SANTA MONICA<br>COD_EMPRESA=%{x}<br>count=%{y}<extra></extra>",
         "legendgroup": "SANTA MONICA",
         "marker": {
          "color": "#FF6692",
          "pattern": {
           "shape": ""
          }
         },
         "name": "SANTA MONICA",
         "offsetgroup": "SANTA MONICA",
         "orientation": "v",
         "showlegend": true,
         "type": "histogram",
         "x": [
          "ERAI"
         ],
         "xaxis": "x",
         "yaxis": "y"
        },
        {
         "alignmentgroup": "True",
         "bingroup": "x",
         "hovertemplate": "AGLOMERADO=VOVO MARIA<br>COD_EMPRESA=%{x}<br>count=%{y}<extra></extra>",
         "legendgroup": "VOVO MARIA",
         "marker": {
          "color": "#B6E880",
          "pattern": {
           "shape": ""
          }
         },
         "name": "VOVO MARIA",
         "offsetgroup": "VOVO MARIA",
         "orientation": "v",
         "showlegend": true,
         "type": "histogram",
         "x": [
          "ERAI"
         ],
         "xaxis": "x",
         "yaxis": "y"
        },
        {
         "alignmentgroup": "True",
         "bingroup": "x",
         "hovertemplate": "AGLOMERADO=ESPERANCA<br>COD_EMPRESA=%{x}<br>count=%{y}<extra></extra>",
         "legendgroup": "ESPERANCA",
         "marker": {
          "color": "#FF97FF",
          "pattern": {
           "shape": ""
          }
         },
         "name": "ESPERANCA",
         "offsetgroup": "ESPERANCA",
         "orientation": "v",
         "showlegend": true,
         "type": "histogram",
         "x": [
          "ERAI",
          "BOM FUTURO"
         ],
         "xaxis": "x",
         "yaxis": "y"
        },
        {
         "alignmentgroup": "True",
         "bingroup": "x",
         "hovertemplate": "AGLOMERADO=MANDASSAI<br>COD_EMPRESA=%{x}<br>count=%{y}<extra></extra>",
         "legendgroup": "MANDASSAI",
         "marker": {
          "color": "#FECB52",
          "pattern": {
           "shape": ""
          }
         },
         "name": "MANDASSAI",
         "offsetgroup": "MANDASSAI",
         "orientation": "v",
         "showlegend": true,
         "type": "histogram",
         "x": [
          "ERAI"
         ],
         "xaxis": "x",
         "yaxis": "y"
        },
        {
         "alignmentgroup": "True",
         "bingroup": "x",
         "hovertemplate": "AGLOMERADO=BARRO VERMELHO<br>COD_EMPRESA=%{x}<br>count=%{y}<extra></extra>",
         "legendgroup": "BARRO VERMELHO",
         "marker": {
          "color": "#636efa",
          "pattern": {
           "shape": ""
          }
         },
         "name": "BARRO VERMELHO",
         "offsetgroup": "BARRO VERMELHO",
         "orientation": "v",
         "showlegend": true,
         "type": "histogram",
         "x": [
          "ERAI"
         ],
         "xaxis": "x",
         "yaxis": "y"
        },
        {
         "alignmentgroup": "True",
         "bingroup": "x",
         "hovertemplate": "AGLOMERADO=SAMARIA V<br>COD_EMPRESA=%{x}<br>count=%{y}<extra></extra>",
         "legendgroup": "SAMARIA V",
         "marker": {
          "color": "#EF553B",
          "pattern": {
           "shape": ""
          }
         },
         "name": "SAMARIA V",
         "offsetgroup": "SAMARIA V",
         "orientation": "v",
         "showlegend": true,
         "type": "histogram",
         "x": [
          "ERAI"
         ],
         "xaxis": "x",
         "yaxis": "y"
        },
        {
         "alignmentgroup": "True",
         "bingroup": "x",
         "hovertemplate": "AGLOMERADO=TRES IRMAOS<br>COD_EMPRESA=%{x}<br>count=%{y}<extra></extra>",
         "legendgroup": "TRES IRMAOS",
         "marker": {
          "color": "#00cc96",
          "pattern": {
           "shape": ""
          }
         },
         "name": "TRES IRMAOS",
         "offsetgroup": "TRES IRMAOS",
         "orientation": "v",
         "showlegend": true,
         "type": "histogram",
         "x": [
          "ERAI"
         ],
         "xaxis": "x",
         "yaxis": "y"
        },
        {
         "alignmentgroup": "True",
         "bingroup": "x",
         "hovertemplate": "AGLOMERADO=RUBI<br>COD_EMPRESA=%{x}<br>count=%{y}<extra></extra>",
         "legendgroup": "RUBI",
         "marker": {
          "color": "#ab63fa",
          "pattern": {
           "shape": ""
          }
         },
         "name": "RUBI",
         "offsetgroup": "RUBI",
         "orientation": "v",
         "showlegend": true,
         "type": "histogram",
         "x": [
          "ERAI",
          "BOM FUTURO"
         ],
         "xaxis": "x",
         "yaxis": "y"
        },
        {
         "alignmentgroup": "True",
         "bingroup": "x",
         "hovertemplate": "AGLOMERADO=LIBERDADE<br>COD_EMPRESA=%{x}<br>count=%{y}<extra></extra>",
         "legendgroup": "LIBERDADE",
         "marker": {
          "color": "#FFA15A",
          "pattern": {
           "shape": ""
          }
         },
         "name": "LIBERDADE",
         "offsetgroup": "LIBERDADE",
         "orientation": "v",
         "showlegend": true,
         "type": "histogram",
         "x": [
          "ERAI",
          "BOM FUTURO"
         ],
         "xaxis": "x",
         "yaxis": "y"
        },
        {
         "alignmentgroup": "True",
         "bingroup": "x",
         "hovertemplate": "AGLOMERADO=PRENDA<br>COD_EMPRESA=%{x}<br>count=%{y}<extra></extra>",
         "legendgroup": "PRENDA",
         "marker": {
          "color": "#19d3f3",
          "pattern": {
           "shape": ""
          }
         },
         "name": "PRENDA",
         "offsetgroup": "PRENDA",
         "orientation": "v",
         "showlegend": true,
         "type": "histogram",
         "x": [
          "ERAI"
         ],
         "xaxis": "x",
         "yaxis": "y"
        },
        {
         "alignmentgroup": "True",
         "bingroup": "x",
         "hovertemplate": "AGLOMERADO=NOVA FARTURA<br>COD_EMPRESA=%{x}<br>count=%{y}<extra></extra>",
         "legendgroup": "NOVA FARTURA",
         "marker": {
          "color": "#FF6692",
          "pattern": {
           "shape": ""
          }
         },
         "name": "NOVA FARTURA",
         "offsetgroup": "NOVA FARTURA",
         "orientation": "v",
         "showlegend": true,
         "type": "histogram",
         "x": [
          "ERAI",
          "BOM FUTURO",
          "BOM FUTURO",
          "IBS SULINA"
         ],
         "xaxis": "x",
         "yaxis": "y"
        },
        {
         "alignmentgroup": "True",
         "bingroup": "x",
         "hovertemplate": "AGLOMERADO=OLHO DAGUA<br>COD_EMPRESA=%{x}<br>count=%{y}<extra></extra>",
         "legendgroup": "OLHO DAGUA",
         "marker": {
          "color": "#B6E880",
          "pattern": {
           "shape": ""
          }
         },
         "name": "OLHO DAGUA",
         "offsetgroup": "OLHO DAGUA",
         "orientation": "v",
         "showlegend": true,
         "type": "histogram",
         "x": [
          "ERAI"
         ],
         "xaxis": "x",
         "yaxis": "y"
        },
        {
         "alignmentgroup": "True",
         "bingroup": "x",
         "hovertemplate": "AGLOMERADO=SAO JOAO<br>COD_EMPRESA=%{x}<br>count=%{y}<extra></extra>",
         "legendgroup": "SAO JOAO",
         "marker": {
          "color": "#FF97FF",
          "pattern": {
           "shape": ""
          }
         },
         "name": "SAO JOAO",
         "offsetgroup": "SAO JOAO",
         "orientation": "v",
         "showlegend": true,
         "type": "histogram",
         "x": [
          "ERAI",
          "ELUSMAR",
          "BOM FUTURO"
         ],
         "xaxis": "x",
         "yaxis": "y"
        },
        {
         "alignmentgroup": "True",
         "bingroup": "x",
         "hovertemplate": "AGLOMERADO=PEDRA PRETA<br>COD_EMPRESA=%{x}<br>count=%{y}<extra></extra>",
         "legendgroup": "PEDRA PRETA",
         "marker": {
          "color": "#FECB52",
          "pattern": {
           "shape": ""
          }
         },
         "name": "PEDRA PRETA",
         "offsetgroup": "PEDRA PRETA",
         "orientation": "v",
         "showlegend": true,
         "type": "histogram",
         "x": [
          "ERAI"
         ],
         "xaxis": "x",
         "yaxis": "y"
        },
        {
         "alignmentgroup": "True",
         "bingroup": "x",
         "hovertemplate": "AGLOMERADO=SAO LOURENCO<br>COD_EMPRESA=%{x}<br>count=%{y}<extra></extra>",
         "legendgroup": "SAO LOURENCO",
         "marker": {
          "color": "#636efa",
          "pattern": {
           "shape": ""
          }
         },
         "name": "SAO LOURENCO",
         "offsetgroup": "SAO LOURENCO",
         "orientation": "v",
         "showlegend": true,
         "type": "histogram",
         "x": [
          "ERAI",
          "BOM FUTURO"
         ],
         "xaxis": "x",
         "yaxis": "y"
        },
        {
         "alignmentgroup": "True",
         "bingroup": "x",
         "hovertemplate": "AGLOMERADO=ELDORADO<br>COD_EMPRESA=%{x}<br>count=%{y}<extra></extra>",
         "legendgroup": "ELDORADO",
         "marker": {
          "color": "#EF553B",
          "pattern": {
           "shape": ""
          }
         },
         "name": "ELDORADO",
         "offsetgroup": "ELDORADO",
         "orientation": "v",
         "showlegend": true,
         "type": "histogram",
         "x": [
          "ERAI"
         ],
         "xaxis": "x",
         "yaxis": "y"
        },
        {
         "alignmentgroup": "True",
         "bingroup": "x",
         "hovertemplate": "AGLOMERADO=BRASIL<br>COD_EMPRESA=%{x}<br>count=%{y}<extra></extra>",
         "legendgroup": "BRASIL",
         "marker": {
          "color": "#00cc96",
          "pattern": {
           "shape": ""
          }
         },
         "name": "BRASIL",
         "offsetgroup": "BRASIL",
         "orientation": "v",
         "showlegend": true,
         "type": "histogram",
         "x": [
          "ERAI"
         ],
         "xaxis": "x",
         "yaxis": "y"
        },
        {
         "alignmentgroup": "True",
         "bingroup": "x",
         "hovertemplate": "AGLOMERADO=LAGOA AZUL<br>COD_EMPRESA=%{x}<br>count=%{y}<extra></extra>",
         "legendgroup": "LAGOA AZUL",
         "marker": {
          "color": "#ab63fa",
          "pattern": {
           "shape": ""
          }
         },
         "name": "LAGOA AZUL",
         "offsetgroup": "LAGOA AZUL",
         "orientation": "v",
         "showlegend": true,
         "type": "histogram",
         "x": [
          "ERAI"
         ],
         "xaxis": "x",
         "yaxis": "y"
        },
        {
         "alignmentgroup": "True",
         "bingroup": "x",
         "hovertemplate": "AGLOMERADO=ALVORADA<br>COD_EMPRESA=%{x}<br>count=%{y}<extra></extra>",
         "legendgroup": "ALVORADA",
         "marker": {
          "color": "#FFA15A",
          "pattern": {
           "shape": ""
          }
         },
         "name": "ALVORADA",
         "offsetgroup": "ALVORADA",
         "orientation": "v",
         "showlegend": true,
         "type": "histogram",
         "x": [
          "ERAI"
         ],
         "xaxis": "x",
         "yaxis": "y"
        },
        {
         "alignmentgroup": "True",
         "bingroup": "x",
         "hovertemplate": "AGLOMERADO=SAO JOSE<br>COD_EMPRESA=%{x}<br>count=%{y}<extra></extra>",
         "legendgroup": "SAO JOSE",
         "marker": {
          "color": "#19d3f3",
          "pattern": {
           "shape": ""
          }
         },
         "name": "SAO JOSE",
         "offsetgroup": "SAO JOSE",
         "orientation": "v",
         "showlegend": true,
         "type": "histogram",
         "x": [
          "ELUSMAR",
          "TRANSPORTADORA"
         ],
         "xaxis": "x",
         "yaxis": "y"
        },
        {
         "alignmentgroup": "True",
         "bingroup": "x",
         "hovertemplate": "AGLOMERADO=REGIONAL<br>COD_EMPRESA=%{x}<br>count=%{y}<extra></extra>",
         "legendgroup": "REGIONAL",
         "marker": {
          "color": "#FF6692",
          "pattern": {
           "shape": ""
          }
         },
         "name": "REGIONAL",
         "offsetgroup": "REGIONAL",
         "orientation": "v",
         "showlegend": true,
         "type": "histogram",
         "x": [
          "ELUSMAR"
         ],
         "xaxis": "x",
         "yaxis": "y"
        },
        {
         "alignmentgroup": "True",
         "bingroup": "x",
         "hovertemplate": "AGLOMERADO=GRAUNA<br>COD_EMPRESA=%{x}<br>count=%{y}<extra></extra>",
         "legendgroup": "GRAUNA",
         "marker": {
          "color": "#B6E880",
          "pattern": {
           "shape": ""
          }
         },
         "name": "GRAUNA",
         "offsetgroup": "GRAUNA",
         "orientation": "v",
         "showlegend": true,
         "type": "histogram",
         "x": [
          "ELUSMAR",
          "BOM FUTURO",
          "BOM FUTURO"
         ],
         "xaxis": "x",
         "yaxis": "y"
        },
        {
         "alignmentgroup": "True",
         "bingroup": "x",
         "hovertemplate": "AGLOMERADO=BACURI<br>COD_EMPRESA=%{x}<br>count=%{y}<extra></extra>",
         "legendgroup": "BACURI",
         "marker": {
          "color": "#FF97FF",
          "pattern": {
           "shape": ""
          }
         },
         "name": "BACURI",
         "offsetgroup": "BACURI",
         "orientation": "v",
         "showlegend": true,
         "type": "histogram",
         "x": [
          "ELUSMAR"
         ],
         "xaxis": "x",
         "yaxis": "y"
        },
        {
         "alignmentgroup": "True",
         "bingroup": "x",
         "hovertemplate": "AGLOMERADO=ESTANCIA MINEIRA<br>COD_EMPRESA=%{x}<br>count=%{y}<extra></extra>",
         "legendgroup": "ESTANCIA MINEIRA",
         "marker": {
          "color": "#FECB52",
          "pattern": {
           "shape": ""
          }
         },
         "name": "ESTANCIA MINEIRA",
         "offsetgroup": "ESTANCIA MINEIRA",
         "orientation": "v",
         "showlegend": true,
         "type": "histogram",
         "x": [
          "ELUSMAR"
         ],
         "xaxis": "x",
         "yaxis": "y"
        },
        {
         "alignmentgroup": "True",
         "bingroup": "x",
         "hovertemplate": "AGLOMERADO=PARTILHA<br>COD_EMPRESA=%{x}<br>count=%{y}<extra></extra>",
         "legendgroup": "PARTILHA",
         "marker": {
          "color": "#636efa",
          "pattern": {
           "shape": ""
          }
         },
         "name": "PARTILHA",
         "offsetgroup": "PARTILHA",
         "orientation": "v",
         "showlegend": true,
         "type": "histogram",
         "x": [
          "ELUSMAR"
         ],
         "xaxis": "x",
         "yaxis": "y"
        },
        {
         "alignmentgroup": "True",
         "bingroup": "x",
         "hovertemplate": "AGLOMERADO=BELA VISTA<br>COD_EMPRESA=%{x}<br>count=%{y}<extra></extra>",
         "legendgroup": "BELA VISTA",
         "marker": {
          "color": "#EF553B",
          "pattern": {
           "shape": ""
          }
         },
         "name": "BELA VISTA",
         "offsetgroup": "BELA VISTA",
         "orientation": "v",
         "showlegend": true,
         "type": "histogram",
         "x": [
          "ELUSMAR"
         ],
         "xaxis": "x",
         "yaxis": "y"
        },
        {
         "alignmentgroup": "True",
         "bingroup": "x",
         "hovertemplate": "AGLOMERADO=NOSSA SENHORA APARECIDA<br>COD_EMPRESA=%{x}<br>count=%{y}<extra></extra>",
         "legendgroup": "NOSSA SENHORA APARECIDA",
         "marker": {
          "color": "#00cc96",
          "pattern": {
           "shape": ""
          }
         },
         "name": "NOSSA SENHORA APARECIDA",
         "offsetgroup": "NOSSA SENHORA APARECIDA",
         "orientation": "v",
         "showlegend": true,
         "type": "histogram",
         "x": [
          "ELUSMAR",
          "BOM FUTURO"
         ],
         "xaxis": "x",
         "yaxis": "y"
        },
        {
         "alignmentgroup": "True",
         "bingroup": "x",
         "hovertemplate": "AGLOMERADO=TILAPIA<br>COD_EMPRESA=%{x}<br>count=%{y}<extra></extra>",
         "legendgroup": "TILAPIA",
         "marker": {
          "color": "#ab63fa",
          "pattern": {
           "shape": ""
          }
         },
         "name": "TILAPIA",
         "offsetgroup": "TILAPIA",
         "orientation": "v",
         "showlegend": true,
         "type": "histogram",
         "x": [
          "ELUSMAR"
         ],
         "xaxis": "x",
         "yaxis": "y"
        },
        {
         "alignmentgroup": "True",
         "bingroup": "x",
         "hovertemplate": "AGLOMERADO=BACANA<br>COD_EMPRESA=%{x}<br>count=%{y}<extra></extra>",
         "legendgroup": "BACANA",
         "marker": {
          "color": "#FFA15A",
          "pattern": {
           "shape": ""
          }
         },
         "name": "BACANA",
         "offsetgroup": "BACANA",
         "orientation": "v",
         "showlegend": true,
         "type": "histogram",
         "x": [
          "ELUSMAR",
          "BOM FUTURO"
         ],
         "xaxis": "x",
         "yaxis": "y"
        },
        {
         "alignmentgroup": "True",
         "bingroup": "x",
         "hovertemplate": "AGLOMERADO=MATUPA<br>COD_EMPRESA=%{x}<br>count=%{y}<extra></extra>",
         "legendgroup": "MATUPA",
         "marker": {
          "color": "#19d3f3",
          "pattern": {
           "shape": ""
          }
         },
         "name": "MATUPA",
         "offsetgroup": "MATUPA",
         "orientation": "v",
         "showlegend": true,
         "type": "histogram",
         "x": [
          "BOM FUTURO",
          "BOM FUTURO",
          "TRANSPORTADORA"
         ],
         "xaxis": "x",
         "yaxis": "y"
        },
        {
         "alignmentgroup": "True",
         "bingroup": "x",
         "hovertemplate": "AGLOMERADO=VALE<br>COD_EMPRESA=%{x}<br>count=%{y}<extra></extra>",
         "legendgroup": "VALE",
         "marker": {
          "color": "#FF6692",
          "pattern": {
           "shape": ""
          }
         },
         "name": "VALE",
         "offsetgroup": "VALE",
         "orientation": "v",
         "showlegend": true,
         "type": "histogram",
         "x": [
          "BOM FUTURO",
          "BOM FUTURO",
          "BOM FUTURO"
         ],
         "xaxis": "x",
         "yaxis": "y"
        },
        {
         "alignmentgroup": "True",
         "bingroup": "x",
         "hovertemplate": "AGLOMERADO=PARCERIA SAO JOSE<br>COD_EMPRESA=%{x}<br>count=%{y}<extra></extra>",
         "legendgroup": "PARCERIA SAO JOSE",
         "marker": {
          "color": "#B6E880",
          "pattern": {
           "shape": ""
          }
         },
         "name": "PARCERIA SAO JOSE",
         "offsetgroup": "PARCERIA SAO JOSE",
         "orientation": "v",
         "showlegend": true,
         "type": "histogram",
         "x": [
          "BOM FUTURO",
          "BOM FUTURO"
         ],
         "xaxis": "x",
         "yaxis": "y"
        },
        {
         "alignmentgroup": "True",
         "bingroup": "x",
         "hovertemplate": "AGLOMERADO=BARRA DO GARCAS<br>COD_EMPRESA=%{x}<br>count=%{y}<extra></extra>",
         "legendgroup": "BARRA DO GARCAS",
         "marker": {
          "color": "#FF97FF",
          "pattern": {
           "shape": ""
          }
         },
         "name": "BARRA DO GARCAS",
         "offsetgroup": "BARRA DO GARCAS",
         "orientation": "v",
         "showlegend": true,
         "type": "histogram",
         "x": [
          "BOM FUTURO"
         ],
         "xaxis": "x",
         "yaxis": "y"
        },
        {
         "alignmentgroup": "True",
         "bingroup": "x",
         "hovertemplate": "AGLOMERADO=CATUMBI<br>COD_EMPRESA=%{x}<br>count=%{y}<extra></extra>",
         "legendgroup": "CATUMBI",
         "marker": {
          "color": "#FECB52",
          "pattern": {
           "shape": ""
          }
         },
         "name": "CATUMBI",
         "offsetgroup": "CATUMBI",
         "orientation": "v",
         "showlegend": true,
         "type": "histogram",
         "x": [
          "BOM FUTURO"
         ],
         "xaxis": "x",
         "yaxis": "y"
        },
        {
         "alignmentgroup": "True",
         "bingroup": "x",
         "hovertemplate": "AGLOMERADO=VENTANIA<br>COD_EMPRESA=%{x}<br>count=%{y}<extra></extra>",
         "legendgroup": "VENTANIA",
         "marker": {
          "color": "#636efa",
          "pattern": {
           "shape": ""
          }
         },
         "name": "VENTANIA",
         "offsetgroup": "VENTANIA",
         "orientation": "v",
         "showlegend": true,
         "type": "histogram",
         "x": [
          "BOM FUTURO",
          "BOM FUTURO"
         ],
         "xaxis": "x",
         "yaxis": "y"
        },
        {
         "alignmentgroup": "True",
         "bingroup": "x",
         "hovertemplate": "AGLOMERADO=JUCARA<br>COD_EMPRESA=%{x}<br>count=%{y}<extra></extra>",
         "legendgroup": "JUCARA",
         "marker": {
          "color": "#EF553B",
          "pattern": {
           "shape": ""
          }
         },
         "name": "JUCARA",
         "offsetgroup": "JUCARA",
         "orientation": "v",
         "showlegend": true,
         "type": "histogram",
         "x": [
          "BOM FUTURO",
          "BOM FUTURO"
         ],
         "xaxis": "x",
         "yaxis": "y"
        },
        {
         "alignmentgroup": "True",
         "bingroup": "x",
         "hovertemplate": "AGLOMERADO=SAO JOSE MATUPA<br>COD_EMPRESA=%{x}<br>count=%{y}<extra></extra>",
         "legendgroup": "SAO JOSE MATUPA",
         "marker": {
          "color": "#00cc96",
          "pattern": {
           "shape": ""
          }
         },
         "name": "SAO JOSE MATUPA",
         "offsetgroup": "SAO JOSE MATUPA",
         "orientation": "v",
         "showlegend": true,
         "type": "histogram",
         "x": [
          "BOM FUTURO",
          "BOM FUTURO",
          "BOM FUTURO"
         ],
         "xaxis": "x",
         "yaxis": "y"
        },
        {
         "alignmentgroup": "True",
         "bingroup": "x",
         "hovertemplate": "AGLOMERADO=BAHIA<br>COD_EMPRESA=%{x}<br>count=%{y}<extra></extra>",
         "legendgroup": "BAHIA",
         "marker": {
          "color": "#ab63fa",
          "pattern": {
           "shape": ""
          }
         },
         "name": "BAHIA",
         "offsetgroup": "BAHIA",
         "orientation": "v",
         "showlegend": true,
         "type": "histogram",
         "x": [
          "TRANSPORTADORA"
         ],
         "xaxis": "x",
         "yaxis": "y"
        },
        {
         "alignmentgroup": "True",
         "bingroup": "x",
         "hovertemplate": "AGLOMERADO=VALE DO RIO VERDE<br>COD_EMPRESA=%{x}<br>count=%{y}<extra></extra>",
         "legendgroup": "VALE DO RIO VERDE",
         "marker": {
          "color": "#FFA15A",
          "pattern": {
           "shape": ""
          }
         },
         "name": "VALE DO RIO VERDE",
         "offsetgroup": "VALE DO RIO VERDE",
         "orientation": "v",
         "showlegend": true,
         "type": "histogram",
         "x": [
          "TRANSPORTADORA"
         ],
         "xaxis": "x",
         "yaxis": "y"
        },
        {
         "alignmentgroup": "True",
         "bingroup": "x",
         "hovertemplate": "AGLOMERADO=PARANATINGA<br>COD_EMPRESA=%{x}<br>count=%{y}<extra></extra>",
         "legendgroup": "PARANATINGA",
         "marker": {
          "color": "#19d3f3",
          "pattern": {
           "shape": ""
          }
         },
         "name": "PARANATINGA",
         "offsetgroup": "PARANATINGA",
         "orientation": "v",
         "showlegend": true,
         "type": "histogram",
         "x": [
          "TRANSPORTADORA"
         ],
         "xaxis": "x",
         "yaxis": "y"
        },
        {
         "alignmentgroup": "True",
         "bingroup": "x",
         "hovertemplate": "AGLOMERADO=ITIQUIRA<br>COD_EMPRESA=%{x}<br>count=%{y}<extra></extra>",
         "legendgroup": "ITIQUIRA",
         "marker": {
          "color": "#FF6692",
          "pattern": {
           "shape": ""
          }
         },
         "name": "ITIQUIRA",
         "offsetgroup": "ITIQUIRA",
         "orientation": "v",
         "showlegend": true,
         "type": "histogram",
         "x": [
          "TRANSPORTADORA"
         ],
         "xaxis": "x",
         "yaxis": "y"
        },
        {
         "alignmentgroup": "True",
         "bingroup": "x",
         "hovertemplate": "AGLOMERADO=PLANALTO DA SERRA<br>COD_EMPRESA=%{x}<br>count=%{y}<extra></extra>",
         "legendgroup": "PLANALTO DA SERRA",
         "marker": {
          "color": "#B6E880",
          "pattern": {
           "shape": ""
          }
         },
         "name": "PLANALTO DA SERRA",
         "offsetgroup": "PLANALTO DA SERRA",
         "orientation": "v",
         "showlegend": true,
         "type": "histogram",
         "x": [
          "TRANSPORTADORA",
          "IBS SULINA"
         ],
         "xaxis": "x",
         "yaxis": "y"
        },
        {
         "alignmentgroup": "True",
         "bingroup": "x",
         "hovertemplate": "AGLOMERADO=PISCICULTURA<br>COD_EMPRESA=%{x}<br>count=%{y}<extra></extra>",
         "legendgroup": "PISCICULTURA",
         "marker": {
          "color": "#FF97FF",
          "pattern": {
           "shape": ""
          }
         },
         "name": "PISCICULTURA",
         "offsetgroup": "PISCICULTURA",
         "orientation": "v",
         "showlegend": true,
         "type": "histogram",
         "x": [
          "IBS SULINA"
         ],
         "xaxis": "x",
         "yaxis": "y"
        },
        {
         "alignmentgroup": "True",
         "bingroup": "x",
         "hovertemplate": "AGLOMERADO=CANARANA<br>COD_EMPRESA=%{x}<br>count=%{y}<extra></extra>",
         "legendgroup": "CANARANA",
         "marker": {
          "color": "#FECB52",
          "pattern": {
           "shape": ""
          }
         },
         "name": "CANARANA",
         "offsetgroup": "CANARANA",
         "orientation": "v",
         "showlegend": true,
         "type": "histogram",
         "x": [
          "IBS SULINA"
         ],
         "xaxis": "x",
         "yaxis": "y"
        },
        {
         "alignmentgroup": "True",
         "bingroup": "x",
         "hovertemplate": "AGLOMERADO=BOM JESUS DO ARAGUAIA<br>COD_EMPRESA=%{x}<br>count=%{y}<extra></extra>",
         "legendgroup": "BOM JESUS DO ARAGUAIA",
         "marker": {
          "color": "#636efa",
          "pattern": {
           "shape": ""
          }
         },
         "name": "BOM JESUS DO ARAGUAIA",
         "offsetgroup": "BOM JESUS DO ARAGUAIA",
         "orientation": "v",
         "showlegend": true,
         "type": "histogram",
         "x": [
          "IBS SULINA"
         ],
         "xaxis": "x",
         "yaxis": "y"
        },
        {
         "alignmentgroup": "True",
         "bingroup": "x",
         "hovertemplate": "AGLOMERADO=FAZENDA BOMFIM<br>COD_EMPRESA=%{x}<br>count=%{y}<extra></extra>",
         "legendgroup": "FAZENDA BOMFIM",
         "marker": {
          "color": "#EF553B",
          "pattern": {
           "shape": ""
          }
         },
         "name": "FAZENDA BOMFIM",
         "offsetgroup": "FAZENDA BOMFIM",
         "orientation": "v",
         "showlegend": true,
         "type": "histogram",
         "x": [
          "BOM FUTURO"
         ],
         "xaxis": "x",
         "yaxis": "y"
        },
        {
         "alignmentgroup": "True",
         "bingroup": "x",
         "hovertemplate": "AGLOMERADO=CEU AZUL<br>COD_EMPRESA=%{x}<br>count=%{y}<extra></extra>",
         "legendgroup": "CEU AZUL",
         "marker": {
          "color": "#00cc96",
          "pattern": {
           "shape": ""
          }
         },
         "name": "CEU AZUL",
         "offsetgroup": "CEU AZUL",
         "orientation": "v",
         "showlegend": true,
         "type": "histogram",
         "x": [
          "BOM FUTURO",
          "BOM FUTURO"
         ],
         "xaxis": "x",
         "yaxis": "y"
        },
        {
         "alignmentgroup": "True",
         "bingroup": "x",
         "hovertemplate": "AGLOMERADO=MIMOSO<br>COD_EMPRESA=%{x}<br>count=%{y}<extra></extra>",
         "legendgroup": "MIMOSO",
         "marker": {
          "color": "#ab63fa",
          "pattern": {
           "shape": ""
          }
         },
         "name": "MIMOSO",
         "offsetgroup": "MIMOSO",
         "orientation": "v",
         "showlegend": true,
         "type": "histogram",
         "x": [
          "BOM FUTURO"
         ],
         "xaxis": "x",
         "yaxis": "y"
        },
        {
         "alignmentgroup": "True",
         "bingroup": "x",
         "hovertemplate": "AGLOMERADO=PARCERIA SAO SOJE<br>COD_EMPRESA=%{x}<br>count=%{y}<extra></extra>",
         "legendgroup": "PARCERIA SAO SOJE",
         "marker": {
          "color": "#FFA15A",
          "pattern": {
           "shape": ""
          }
         },
         "name": "PARCERIA SAO SOJE",
         "offsetgroup": "PARCERIA SAO SOJE",
         "orientation": "v",
         "showlegend": true,
         "type": "histogram",
         "x": [
          "BOM FUTURO"
         ],
         "xaxis": "x",
         "yaxis": "y"
        },
        {
         "alignmentgroup": "True",
         "bingroup": "x",
         "hovertemplate": "AGLOMERADO=SULINA<br>COD_EMPRESA=%{x}<br>count=%{y}<extra></extra>",
         "legendgroup": "SULINA",
         "marker": {
          "color": "#19d3f3",
          "pattern": {
           "shape": ""
          }
         },
         "name": "SULINA",
         "offsetgroup": "SULINA",
         "orientation": "v",
         "showlegend": true,
         "type": "histogram",
         "x": [
          "BOM FUTURO"
         ],
         "xaxis": "x",
         "yaxis": "y"
        },
        {
         "alignmentgroup": "True",
         "bingroup": "x",
         "hovertemplate": "AGLOMERADO=TUPI BARAO<br>COD_EMPRESA=%{x}<br>count=%{y}<extra></extra>",
         "legendgroup": "TUPI BARAO",
         "marker": {
          "color": "#FF6692",
          "pattern": {
           "shape": ""
          }
         },
         "name": "TUPI BARAO",
         "offsetgroup": "TUPI BARAO",
         "orientation": "v",
         "showlegend": true,
         "type": "histogram",
         "x": [
          "BOM FUTURO"
         ],
         "xaxis": "x",
         "yaxis": "y"
        }
       ],
       "layout": {
        "barmode": "relative",
        "legend": {
         "title": {
          "text": "AGLOMERADO"
         },
         "tracegroupgap": 0
        },
        "margin": {
         "t": 60
        },
        "template": {
         "data": {
          "bar": [
           {
            "error_x": {
             "color": "#2a3f5f"
            },
            "error_y": {
             "color": "#2a3f5f"
            },
            "marker": {
             "line": {
              "color": "#E5ECF6",
              "width": 0.5
             },
             "pattern": {
              "fillmode": "overlay",
              "size": 10,
              "solidity": 0.2
             }
            },
            "type": "bar"
           }
          ],
          "barpolar": [
           {
            "marker": {
             "line": {
              "color": "#E5ECF6",
              "width": 0.5
             },
             "pattern": {
              "fillmode": "overlay",
              "size": 10,
              "solidity": 0.2
             }
            },
            "type": "barpolar"
           }
          ],
          "carpet": [
           {
            "aaxis": {
             "endlinecolor": "#2a3f5f",
             "gridcolor": "white",
             "linecolor": "white",
             "minorgridcolor": "white",
             "startlinecolor": "#2a3f5f"
            },
            "baxis": {
             "endlinecolor": "#2a3f5f",
             "gridcolor": "white",
             "linecolor": "white",
             "minorgridcolor": "white",
             "startlinecolor": "#2a3f5f"
            },
            "type": "carpet"
           }
          ],
          "choropleth": [
           {
            "colorbar": {
             "outlinewidth": 0,
             "ticks": ""
            },
            "type": "choropleth"
           }
          ],
          "contour": [
           {
            "colorbar": {
             "outlinewidth": 0,
             "ticks": ""
            },
            "colorscale": [
             [
              0,
              "#0d0887"
             ],
             [
              0.1111111111111111,
              "#46039f"
             ],
             [
              0.2222222222222222,
              "#7201a8"
             ],
             [
              0.3333333333333333,
              "#9c179e"
             ],
             [
              0.4444444444444444,
              "#bd3786"
             ],
             [
              0.5555555555555556,
              "#d8576b"
             ],
             [
              0.6666666666666666,
              "#ed7953"
             ],
             [
              0.7777777777777778,
              "#fb9f3a"
             ],
             [
              0.8888888888888888,
              "#fdca26"
             ],
             [
              1,
              "#f0f921"
             ]
            ],
            "type": "contour"
           }
          ],
          "contourcarpet": [
           {
            "colorbar": {
             "outlinewidth": 0,
             "ticks": ""
            },
            "type": "contourcarpet"
           }
          ],
          "heatmap": [
           {
            "colorbar": {
             "outlinewidth": 0,
             "ticks": ""
            },
            "colorscale": [
             [
              0,
              "#0d0887"
             ],
             [
              0.1111111111111111,
              "#46039f"
             ],
             [
              0.2222222222222222,
              "#7201a8"
             ],
             [
              0.3333333333333333,
              "#9c179e"
             ],
             [
              0.4444444444444444,
              "#bd3786"
             ],
             [
              0.5555555555555556,
              "#d8576b"
             ],
             [
              0.6666666666666666,
              "#ed7953"
             ],
             [
              0.7777777777777778,
              "#fb9f3a"
             ],
             [
              0.8888888888888888,
              "#fdca26"
             ],
             [
              1,
              "#f0f921"
             ]
            ],
            "type": "heatmap"
           }
          ],
          "heatmapgl": [
           {
            "colorbar": {
             "outlinewidth": 0,
             "ticks": ""
            },
            "colorscale": [
             [
              0,
              "#0d0887"
             ],
             [
              0.1111111111111111,
              "#46039f"
             ],
             [
              0.2222222222222222,
              "#7201a8"
             ],
             [
              0.3333333333333333,
              "#9c179e"
             ],
             [
              0.4444444444444444,
              "#bd3786"
             ],
             [
              0.5555555555555556,
              "#d8576b"
             ],
             [
              0.6666666666666666,
              "#ed7953"
             ],
             [
              0.7777777777777778,
              "#fb9f3a"
             ],
             [
              0.8888888888888888,
              "#fdca26"
             ],
             [
              1,
              "#f0f921"
             ]
            ],
            "type": "heatmapgl"
           }
          ],
          "histogram": [
           {
            "marker": {
             "pattern": {
              "fillmode": "overlay",
              "size": 10,
              "solidity": 0.2
             }
            },
            "type": "histogram"
           }
          ],
          "histogram2d": [
           {
            "colorbar": {
             "outlinewidth": 0,
             "ticks": ""
            },
            "colorscale": [
             [
              0,
              "#0d0887"
             ],
             [
              0.1111111111111111,
              "#46039f"
             ],
             [
              0.2222222222222222,
              "#7201a8"
             ],
             [
              0.3333333333333333,
              "#9c179e"
             ],
             [
              0.4444444444444444,
              "#bd3786"
             ],
             [
              0.5555555555555556,
              "#d8576b"
             ],
             [
              0.6666666666666666,
              "#ed7953"
             ],
             [
              0.7777777777777778,
              "#fb9f3a"
             ],
             [
              0.8888888888888888,
              "#fdca26"
             ],
             [
              1,
              "#f0f921"
             ]
            ],
            "type": "histogram2d"
           }
          ],
          "histogram2dcontour": [
           {
            "colorbar": {
             "outlinewidth": 0,
             "ticks": ""
            },
            "colorscale": [
             [
              0,
              "#0d0887"
             ],
             [
              0.1111111111111111,
              "#46039f"
             ],
             [
              0.2222222222222222,
              "#7201a8"
             ],
             [
              0.3333333333333333,
              "#9c179e"
             ],
             [
              0.4444444444444444,
              "#bd3786"
             ],
             [
              0.5555555555555556,
              "#d8576b"
             ],
             [
              0.6666666666666666,
              "#ed7953"
             ],
             [
              0.7777777777777778,
              "#fb9f3a"
             ],
             [
              0.8888888888888888,
              "#fdca26"
             ],
             [
              1,
              "#f0f921"
             ]
            ],
            "type": "histogram2dcontour"
           }
          ],
          "mesh3d": [
           {
            "colorbar": {
             "outlinewidth": 0,
             "ticks": ""
            },
            "type": "mesh3d"
           }
          ],
          "parcoords": [
           {
            "line": {
             "colorbar": {
              "outlinewidth": 0,
              "ticks": ""
             }
            },
            "type": "parcoords"
           }
          ],
          "pie": [
           {
            "automargin": true,
            "type": "pie"
           }
          ],
          "scatter": [
           {
            "fillpattern": {
             "fillmode": "overlay",
             "size": 10,
             "solidity": 0.2
            },
            "type": "scatter"
           }
          ],
          "scatter3d": [
           {
            "line": {
             "colorbar": {
              "outlinewidth": 0,
              "ticks": ""
             }
            },
            "marker": {
             "colorbar": {
              "outlinewidth": 0,
              "ticks": ""
             }
            },
            "type": "scatter3d"
           }
          ],
          "scattercarpet": [
           {
            "marker": {
             "colorbar": {
              "outlinewidth": 0,
              "ticks": ""
             }
            },
            "type": "scattercarpet"
           }
          ],
          "scattergeo": [
           {
            "marker": {
             "colorbar": {
              "outlinewidth": 0,
              "ticks": ""
             }
            },
            "type": "scattergeo"
           }
          ],
          "scattergl": [
           {
            "marker": {
             "colorbar": {
              "outlinewidth": 0,
              "ticks": ""
             }
            },
            "type": "scattergl"
           }
          ],
          "scattermapbox": [
           {
            "marker": {
             "colorbar": {
              "outlinewidth": 0,
              "ticks": ""
             }
            },
            "type": "scattermapbox"
           }
          ],
          "scatterpolar": [
           {
            "marker": {
             "colorbar": {
              "outlinewidth": 0,
              "ticks": ""
             }
            },
            "type": "scatterpolar"
           }
          ],
          "scatterpolargl": [
           {
            "marker": {
             "colorbar": {
              "outlinewidth": 0,
              "ticks": ""
             }
            },
            "type": "scatterpolargl"
           }
          ],
          "scatterternary": [
           {
            "marker": {
             "colorbar": {
              "outlinewidth": 0,
              "ticks": ""
             }
            },
            "type": "scatterternary"
           }
          ],
          "surface": [
           {
            "colorbar": {
             "outlinewidth": 0,
             "ticks": ""
            },
            "colorscale": [
             [
              0,
              "#0d0887"
             ],
             [
              0.1111111111111111,
              "#46039f"
             ],
             [
              0.2222222222222222,
              "#7201a8"
             ],
             [
              0.3333333333333333,
              "#9c179e"
             ],
             [
              0.4444444444444444,
              "#bd3786"
             ],
             [
              0.5555555555555556,
              "#d8576b"
             ],
             [
              0.6666666666666666,
              "#ed7953"
             ],
             [
              0.7777777777777778,
              "#fb9f3a"
             ],
             [
              0.8888888888888888,
              "#fdca26"
             ],
             [
              1,
              "#f0f921"
             ]
            ],
            "type": "surface"
           }
          ],
          "table": [
           {
            "cells": {
             "fill": {
              "color": "#EBF0F8"
             },
             "line": {
              "color": "white"
             }
            },
            "header": {
             "fill": {
              "color": "#C8D4E3"
             },
             "line": {
              "color": "white"
             }
            },
            "type": "table"
           }
          ]
         },
         "layout": {
          "annotationdefaults": {
           "arrowcolor": "#2a3f5f",
           "arrowhead": 0,
           "arrowwidth": 1
          },
          "autotypenumbers": "strict",
          "coloraxis": {
           "colorbar": {
            "outlinewidth": 0,
            "ticks": ""
           }
          },
          "colorscale": {
           "diverging": [
            [
             0,
             "#8e0152"
            ],
            [
             0.1,
             "#c51b7d"
            ],
            [
             0.2,
             "#de77ae"
            ],
            [
             0.3,
             "#f1b6da"
            ],
            [
             0.4,
             "#fde0ef"
            ],
            [
             0.5,
             "#f7f7f7"
            ],
            [
             0.6,
             "#e6f5d0"
            ],
            [
             0.7,
             "#b8e186"
            ],
            [
             0.8,
             "#7fbc41"
            ],
            [
             0.9,
             "#4d9221"
            ],
            [
             1,
             "#276419"
            ]
           ],
           "sequential": [
            [
             0,
             "#0d0887"
            ],
            [
             0.1111111111111111,
             "#46039f"
            ],
            [
             0.2222222222222222,
             "#7201a8"
            ],
            [
             0.3333333333333333,
             "#9c179e"
            ],
            [
             0.4444444444444444,
             "#bd3786"
            ],
            [
             0.5555555555555556,
             "#d8576b"
            ],
            [
             0.6666666666666666,
             "#ed7953"
            ],
            [
             0.7777777777777778,
             "#fb9f3a"
            ],
            [
             0.8888888888888888,
             "#fdca26"
            ],
            [
             1,
             "#f0f921"
            ]
           ],
           "sequentialminus": [
            [
             0,
             "#0d0887"
            ],
            [
             0.1111111111111111,
             "#46039f"
            ],
            [
             0.2222222222222222,
             "#7201a8"
            ],
            [
             0.3333333333333333,
             "#9c179e"
            ],
            [
             0.4444444444444444,
             "#bd3786"
            ],
            [
             0.5555555555555556,
             "#d8576b"
            ],
            [
             0.6666666666666666,
             "#ed7953"
            ],
            [
             0.7777777777777778,
             "#fb9f3a"
            ],
            [
             0.8888888888888888,
             "#fdca26"
            ],
            [
             1,
             "#f0f921"
            ]
           ]
          },
          "colorway": [
           "#636efa",
           "#EF553B",
           "#00cc96",
           "#ab63fa",
           "#FFA15A",
           "#19d3f3",
           "#FF6692",
           "#B6E880",
           "#FF97FF",
           "#FECB52"
          ],
          "font": {
           "color": "#2a3f5f"
          },
          "geo": {
           "bgcolor": "white",
           "lakecolor": "white",
           "landcolor": "#E5ECF6",
           "showlakes": true,
           "showland": true,
           "subunitcolor": "white"
          },
          "hoverlabel": {
           "align": "left"
          },
          "hovermode": "closest",
          "mapbox": {
           "style": "light"
          },
          "paper_bgcolor": "white",
          "plot_bgcolor": "#E5ECF6",
          "polar": {
           "angularaxis": {
            "gridcolor": "white",
            "linecolor": "white",
            "ticks": ""
           },
           "bgcolor": "#E5ECF6",
           "radialaxis": {
            "gridcolor": "white",
            "linecolor": "white",
            "ticks": ""
           }
          },
          "scene": {
           "xaxis": {
            "backgroundcolor": "#E5ECF6",
            "gridcolor": "white",
            "gridwidth": 2,
            "linecolor": "white",
            "showbackground": true,
            "ticks": "",
            "zerolinecolor": "white"
           },
           "yaxis": {
            "backgroundcolor": "#E5ECF6",
            "gridcolor": "white",
            "gridwidth": 2,
            "linecolor": "white",
            "showbackground": true,
            "ticks": "",
            "zerolinecolor": "white"
           },
           "zaxis": {
            "backgroundcolor": "#E5ECF6",
            "gridcolor": "white",
            "gridwidth": 2,
            "linecolor": "white",
            "showbackground": true,
            "ticks": "",
            "zerolinecolor": "white"
           }
          },
          "shapedefaults": {
           "line": {
            "color": "#2a3f5f"
           }
          },
          "ternary": {
           "aaxis": {
            "gridcolor": "white",
            "linecolor": "white",
            "ticks": ""
           },
           "baxis": {
            "gridcolor": "white",
            "linecolor": "white",
            "ticks": ""
           },
           "bgcolor": "#E5ECF6",
           "caxis": {
            "gridcolor": "white",
            "linecolor": "white",
            "ticks": ""
           }
          },
          "title": {
           "x": 0.05
          },
          "xaxis": {
           "automargin": true,
           "gridcolor": "white",
           "linecolor": "white",
           "ticks": "",
           "title": {
            "standoff": 15
           },
           "zerolinecolor": "white",
           "zerolinewidth": 2
          },
          "yaxis": {
           "automargin": true,
           "gridcolor": "white",
           "linecolor": "white",
           "ticks": "",
           "title": {
            "standoff": 15
           },
           "zerolinecolor": "white",
           "zerolinewidth": 2
          }
         }
        },
        "xaxis": {
         "anchor": "y",
         "domain": [
          0,
          1
         ],
         "title": {
          "text": "COD_EMPRESA"
         }
        },
        "yaxis": {
         "anchor": "x",
         "domain": [
          0,
          1
         ],
         "title": {
          "text": "count"
         }
        }
       }
      }
     },
     "metadata": {},
     "output_type": "display_data"
    }
   ],
   "source": [
    "import plotly.express as px\n",
    "\n",
    "# Ordenar os dados pela contagem de ocorrências da coluna \"COD_EMPRESA\" e selecionar os top 5\n",
    "top_empresas = qvd['COD_EMPRESA'].value_counts().nlargest(5)\n",
    "\n",
    "# Filtrar o DataFrame original para incluir apenas as linhas que correspondem aos top 5 empresas\n",
    "qvd_top5 = qvd[qvd['COD_EMPRESA'].isin(top_empresas.index)]\n",
    "\n",
    "# Mapear os códigos de empresa para os nomes correspondentes\n",
    "mapeamento_empresas = {\n",
    "    '16': \"BOM FUTURO\",\n",
    "    '01': \"ERAI\",\n",
    "    '05': \"ELUSMAR\",\n",
    "    '20': \"TRANSPORTADORA\",\n",
    "    '70': \"IBS SULINA\"\n",
    "}\n",
    "\n",
    "# Aplicar o mapeamento ao DataFrame\n",
    "qvd_top5['COD_EMPRESA'] = qvd_top5['COD_EMPRESA'].map(mapeamento_empresas)\n",
    "\n",
    "# Criar gráfico de barras para os top 5 COD_EMPRESA\n",
    "grafico = px.histogram(qvd_top5, x=\"COD_EMPRESA\", title=\"Quantidade de Aglomerados por Empresa\",labels={'COD_EMPRESA': 'EMPRESAS'}, text_auto=True)\n",
    "\n",
    "# Criar gráfico de barras para os top 5 COD_EMPRESA\n",
    "grafico2 = px.histogram(qvd_top5, x=\"COD_EMPRESA\", color=\"AGLOMERADO\", )\n",
    "\n",
    "# Exibir os gráfico\n",
    "grafico.show()\n",
    "grafico2.show()\n"
   ]
  }
 ],
 "metadata": {
  "kernelspec": {
   "display_name": "Python 3",
   "language": "python",
   "name": "python3"
  },
  "language_info": {
   "codemirror_mode": {
    "name": "ipython",
    "version": 3
   },
   "file_extension": ".py",
   "mimetype": "text/x-python",
   "name": "python",
   "nbconvert_exporter": "python",
   "pygments_lexer": "ipython3",
   "version": "3.11.4"
  }
 },
 "nbformat": 4,
 "nbformat_minor": 2
}
